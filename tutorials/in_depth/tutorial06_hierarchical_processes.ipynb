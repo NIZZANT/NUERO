{
 "cells": [
  {
   "cell_type": "markdown",
   "id": "df0639b0",
   "metadata": {},
   "source": [
    "*Copyright (C) 2021 Intel Corporation*<br>\n",
    "*SPDX-License-Identifier: BSD-3-Clause*<br>\n",
    "*See: https://spdx.org/licenses/*\n",
    "\n",
    "---\n",
    "\n",
    "# Hierarchical _Processes_ and _SubProcessModels_\n",
    "\n",
    "Previous tutorials have briefly covered that there are two categories of _ProcessModels_: _LeafProcessModels_ and _SubProcessModels_. The [ProcessModel Tutorial](./tutorial03_process_models.ipynb) explained _LeafProcessModels_ in detail. These implement the behavior of a _Process_ directly, in the language (for example, Python or Loihi Neurocore API) required for a particular compute resource (for example, a CPU or Loihi Neurocores). _SubProcessModels_, by contrast, allow users to implement and compose the behavior of a process _using other processes_. This enables the creation of _Hierarchical Processes_ and reuse of primitive _ProcessModels_ to realize more complex _ProcessModels_. _SubProcessModels_ inherit all compute resource requirements from the sub _Processes_ they instantiate. \n",
    "\n",
    "<img src=\"https://raw.githubusercontent.com/lava-nc/lava-nc.github.io/main/_static/images/tutorial07/fig01_subprocessmodels.png\"/>\n",
    "\n",
    "In this tutorial, we will create a Dense Layer Hierarchical _Process_ that has the behavior of  Leaky-Integrate-and-Fire (LIF) neurons. The Dense Layer _ProcessModel_ implements this behavior via the primitive LIF and Dense Connection _Processes_ and their respective _PyLoihiProcessModels_."
   ]
  },
  {
   "cell_type": "markdown",
   "id": "361b53f8-24da-4b60-93b5-ece9e05a7eca",
   "metadata": {},
   "source": [
    "## Recommended tutorials before starting: \n",
    "\n",
    "- [Installing Lava](./tutorial01_installing_lava.ipynb \"Tutorial on Installing Lava\")\n",
    "- [Processes](./tutorial02_processes.ipynb \"Tutorial on Processes\")\n",
    "- [ProcessModel](./tutorial03_process_models.ipynb \"Tutorial on ProcessModels\")\n",
    "- [Execution](./tutorial04_execution.ipynb \"Tutorial on Executing Processes\")\n",
    "- [Connecting Processes](./tutorial05_connect_processes.ipynb \"Tutorial on Connecting Processes\")"
   ]
  },
  {
   "cell_type": "markdown",
   "id": "25486c95",
   "metadata": {},
   "source": [
    "## Create LIF and Dense _Processes_ and _ProcessModels_"
   ]
  },
  {
   "cell_type": "markdown",
   "id": "0d9dca97",
   "metadata": {},
   "source": [
    "The [ProcessModel Tutorial](#tutorial03_process_models.ipynb) walks through the creation of a LIF _Process_ and an implementing _PyLoihiProcessModel_. Our DenseLayer _Process_ also requires a Dense Lava _Process_ and _ProcessModel_ that have the behavior of a dense set of synaptic connections and weights. The Dense Connection _Process_ can be used to connect neural _Processes_. For completeness, we'll first briefly show an example LIF and Dense _Process_ and _PyLoihiProcessModel_."
   ]
  },
  {
   "cell_type": "code",
   "execution_count": 1,
   "id": "9d6e9d67",
   "metadata": {},
   "outputs": [],
   "source": [
    "%load_ext lava.utils.win_exec"
   ]
  },
  {
   "cell_type": "markdown",
   "id": "a41d3af0",
   "metadata": {},
   "source": [
    "#### Create a Dense connection _Process_"
   ]
  },
  {
   "cell_type": "code",
   "execution_count": 2,
   "id": "bbc5fe35",
   "metadata": {
    "pycharm": {
     "name": "#%%\n"
    }
   },
   "outputs": [],
   "source": [
    "%%export tutorial_06\n",
    "from lava.magma.core.process.process import AbstractProcess\n",
    "from lava.magma.core.process.variable import Var\n",
    "from lava.magma.core.process.ports.ports import InPort, OutPort\n",
    "\n",
    "\n",
    "class Dense(AbstractProcess):\n",
    "    \"\"\"Dense connections between neurons.\n",
    "    Realizes the following abstract behavior:\n",
    "    a_out = W * s_in\n",
    "    \"\"\"\n",
    "\n",
    "    def __init__(self, **kwargs):\n",
    "        super().__init__(**kwargs)\n",
    "        shape = kwargs.get(\"shape\", (1, 1))\n",
    "        self.s_in = InPort(shape=(shape[1],))\n",
    "        self.a_out = OutPort(shape=(shape[0],))\n",
    "        self.weights = Var(shape=shape, init=kwargs.pop(\"weights\", 0))"
   ]
  },
  {
   "cell_type": "markdown",
   "id": "e58d1c00",
   "metadata": {
    "pycharm": {
     "name": "#%% md\n"
    }
   },
   "source": [
    "#### Create a Python Dense connection _ProcessModel_ implementing the Loihi Sync Protocol and requiring a CPU compute resource"
   ]
  },
  {
   "cell_type": "code",
   "execution_count": 3,
   "id": "99cf3149",
   "metadata": {
    "pycharm": {
     "name": "#%%\n"
    }
   },
   "outputs": [
    {
     "name": "stderr",
     "output_type": "stream",
     "text": [
      "<string>:17: DeprecationWarning: `np.float` is a deprecated alias for the builtin `float`. To silence this warning, use `float` by itself. Doing this will not modify any behavior and is safe. If you specifically wanted the numpy scalar type, use `np.float64` here.\n",
      "Deprecated in NumPy 1.20; for more details and guidance: https://numpy.org/devdocs/release/1.20.0-notes.html#deprecations\n",
      "<string>:18: DeprecationWarning: `np.float` is a deprecated alias for the builtin `float`. To silence this warning, use `float` by itself. Doing this will not modify any behavior and is safe. If you specifically wanted the numpy scalar type, use `np.float64` here.\n",
      "Deprecated in NumPy 1.20; for more details and guidance: https://numpy.org/devdocs/release/1.20.0-notes.html#deprecations\n"
     ]
    }
   ],
   "source": [
    "%%export tutorial_06\n",
    "\n",
    "import numpy as np\n",
    "\n",
    "from lava.magma.core.sync.protocols.loihi_protocol import LoihiProtocol\n",
    "from lava.magma.core.model.py.ports import PyInPort, PyOutPort\n",
    "from lava.magma.core.model.py.type import LavaPyType\n",
    "from lava.magma.core.resources import CPU\n",
    "from lava.magma.core.decorator import implements, requires\n",
    "from lava.magma.core.model.py.model import PyLoihiProcessModel\n",
    "#from lava.proc.dense.process import Dense\n",
    "\n",
    "\n",
    "@implements(proc=Dense, protocol=LoihiProtocol)\n",
    "@requires(CPU)\n",
    "class PyDenseModel(PyLoihiProcessModel):\n",
    "    s_in: PyInPort = LavaPyType(PyInPort.VEC_DENSE, bool)\n",
    "    a_out: PyOutPort = LavaPyType(PyOutPort.VEC_DENSE, np.float)\n",
    "    weights: np.ndarray = LavaPyType(np.ndarray, np.float)\n",
    "\n",
    "    def run_spk(self):\n",
    "        s_in = self.s_in.recv()\n",
    "        a_out = self.weights[:, s_in].sum(axis=1)\n",
    "        self.a_out.send(a_out)     "
   ]
  },
  {
   "cell_type": "markdown",
   "id": "e7ea474f",
   "metadata": {
    "pycharm": {
     "name": "#%% md\n"
    }
   },
   "source": [
    "#### Create a LIF neuron _Process_"
   ]
  },
  {
   "cell_type": "code",
   "execution_count": 4,
   "id": "77fd7d0e",
   "metadata": {
    "pycharm": {
     "name": "#%%\n"
    }
   },
   "outputs": [],
   "source": [
    "%%export tutorial_06\n",
    "\n",
    "from lava.magma.core.process.process import AbstractProcess\n",
    "from lava.magma.core.process.variable import Var\n",
    "from lava.magma.core.process.ports.ports import InPort, OutPort\n",
    "\n",
    "\n",
    "class LIF(AbstractProcess):\n",
    "    \"\"\"Leaky-Integrate-and-Fire (LIF) neural Process.\n",
    "    LIF dynamics abstracts to:\n",
    "    u[t] = u[t-1] * (1-du) + a_in         # neuron current\n",
    "    v[t] = v[t-1] * (1-dv) + u[t] + bias  # neuron voltage\n",
    "    s_out = v[t] > vth                    # spike if threshold is exceeded\n",
    "    v[t] = 0                              # reset at spike\n",
    "    Parameters\n",
    "    ----------\n",
    "    du: Inverse of decay time-constant for current decay.\n",
    "    dv: Inverse of decay time-constant for voltage decay.\n",
    "    bias: Neuron bias.\n",
    "    vth: Neuron threshold voltage, exceeding which, the neuron will spike.\n",
    "    \"\"\"\n",
    "    def __init__(self, **kwargs):\n",
    "        super().__init__(**kwargs)\n",
    "        shape = kwargs.get(\"shape\", (1,))\n",
    "        du = kwargs.pop(\"du\", 0)\n",
    "        dv = kwargs.pop(\"dv\", 0)\n",
    "        bias = kwargs.pop(\"bias\", 0)\n",
    "        vth = kwargs.pop(\"vth\", 10)\n",
    "\n",
    "        self.shape = shape\n",
    "        self.a_in = InPort(shape=shape)\n",
    "        self.s_out = OutPort(shape=shape)\n",
    "        self.u = Var(shape=shape, init=0)\n",
    "        self.v = Var(shape=shape, init=0)\n",
    "        self.du = Var(shape=(1,), init=du)\n",
    "        self.dv = Var(shape=(1,), init=dv)\n",
    "        self.bias = Var(shape=shape, init=bias)\n",
    "        self.vth = Var(shape=(1,), init=vth)\n",
    "        #self.spikes = Var(shape=shape, init=0)"
   ]
  },
  {
   "cell_type": "markdown",
   "id": "f33ba053",
   "metadata": {
    "pycharm": {
     "name": "#%% md\n"
    }
   },
   "source": [
    "#### Create a Python LIF neuron _ProcessModel_ implementing the Loihi Sync Protocol and requiring a CPU compute resource"
   ]
  },
  {
   "cell_type": "code",
   "execution_count": 5,
   "id": "89018a8d",
   "metadata": {
    "pycharm": {
     "name": "#%%\n"
    }
   },
   "outputs": [
    {
     "name": "stderr",
     "output_type": "stream",
     "text": [
      "<string>:15: DeprecationWarning: `np.float` is a deprecated alias for the builtin `float`. To silence this warning, use `float` by itself. Doing this will not modify any behavior and is safe. If you specifically wanted the numpy scalar type, use `np.float64` here.\n",
      "Deprecated in NumPy 1.20; for more details and guidance: https://numpy.org/devdocs/release/1.20.0-notes.html#deprecations\n",
      "<string>:17: DeprecationWarning: `np.float` is a deprecated alias for the builtin `float`. To silence this warning, use `float` by itself. Doing this will not modify any behavior and is safe. If you specifically wanted the numpy scalar type, use `np.float64` here.\n",
      "Deprecated in NumPy 1.20; for more details and guidance: https://numpy.org/devdocs/release/1.20.0-notes.html#deprecations\n",
      "<string>:18: DeprecationWarning: `np.float` is a deprecated alias for the builtin `float`. To silence this warning, use `float` by itself. Doing this will not modify any behavior and is safe. If you specifically wanted the numpy scalar type, use `np.float64` here.\n",
      "Deprecated in NumPy 1.20; for more details and guidance: https://numpy.org/devdocs/release/1.20.0-notes.html#deprecations\n",
      "<string>:19: DeprecationWarning: `np.float` is a deprecated alias for the builtin `float`. To silence this warning, use `float` by itself. Doing this will not modify any behavior and is safe. If you specifically wanted the numpy scalar type, use `np.float64` here.\n",
      "Deprecated in NumPy 1.20; for more details and guidance: https://numpy.org/devdocs/release/1.20.0-notes.html#deprecations\n",
      "<string>:20: DeprecationWarning: `np.float` is a deprecated alias for the builtin `float`. To silence this warning, use `float` by itself. Doing this will not modify any behavior and is safe. If you specifically wanted the numpy scalar type, use `np.float64` here.\n",
      "Deprecated in NumPy 1.20; for more details and guidance: https://numpy.org/devdocs/release/1.20.0-notes.html#deprecations\n",
      "<string>:21: DeprecationWarning: `np.float` is a deprecated alias for the builtin `float`. To silence this warning, use `float` by itself. Doing this will not modify any behavior and is safe. If you specifically wanted the numpy scalar type, use `np.float64` here.\n",
      "Deprecated in NumPy 1.20; for more details and guidance: https://numpy.org/devdocs/release/1.20.0-notes.html#deprecations\n",
      "<string>:22: DeprecationWarning: `np.float` is a deprecated alias for the builtin `float`. To silence this warning, use `float` by itself. Doing this will not modify any behavior and is safe. If you specifically wanted the numpy scalar type, use `np.float64` here.\n",
      "Deprecated in NumPy 1.20; for more details and guidance: https://numpy.org/devdocs/release/1.20.0-notes.html#deprecations\n"
     ]
    }
   ],
   "source": [
    "%%export tutorial_06\n",
    "\n",
    "import numpy as np\n",
    "from lava.magma.core.sync.protocols.loihi_protocol import LoihiProtocol\n",
    "from lava.magma.core.model.py.ports import PyInPort, PyOutPort\n",
    "from lava.magma.core.model.py.type import LavaPyType\n",
    "from lava.magma.core.resources import CPU\n",
    "from lava.magma.core.decorator import implements, requires\n",
    "from lava.magma.core.model.py.model import PyLoihiProcessModel\n",
    "#from lava.proc.lif.process import LIF\n",
    "\n",
    "\n",
    "@implements(proc=LIF, protocol=LoihiProtocol)\n",
    "@requires(CPU)\n",
    "class PyLifModel(PyLoihiProcessModel):\n",
    "    a_in: PyInPort = LavaPyType(PyInPort.VEC_DENSE, np.float)\n",
    "    s_out: PyOutPort = LavaPyType(PyOutPort.VEC_DENSE, bool, precision=1)\n",
    "    u: np.ndarray = LavaPyType(np.ndarray, np.float)\n",
    "    v: np.ndarray = LavaPyType(np.ndarray, np.float)\n",
    "    bias: np.ndarray = LavaPyType(np.ndarray, np.float)\n",
    "    du: float = LavaPyType(float, np.float)\n",
    "    dv: float = LavaPyType(float, np.float)\n",
    "    vth: float = LavaPyType(float, np.float)\n",
    "    spikes: np.ndarray = LavaPyType(np.ndarray, bool)\n",
    "\n",
    "    def run_spk(self):\n",
    "        a_in_data = self.a_in.recv()\n",
    "        self.u[:] = self.u * (1 - self.du)\n",
    "        self.u[:] += a_in_data\n",
    "        self.v[:] = self.v * (1 - self.dv) + self.u + self.bias\n",
    "        s_out = self.v >= self.vth\n",
    "        self.v[s_out] = 0  # Reset voltage to 0\n",
    "        #self.spikes = s_out\n",
    "        self.s_out.send(s_out)"
   ]
  },
  {
   "cell_type": "markdown",
   "id": "aa32bafd",
   "metadata": {
    "pycharm": {
     "name": "#%% md\n"
    }
   },
   "source": [
    "## Create a DenseLayer Hierarchical _Process_ that encompasses Dense and LIF _Process_ behavior"
   ]
  },
  {
   "cell_type": "markdown",
   "id": "be020b1a",
   "metadata": {
    "pycharm": {
     "name": "#%% md\n"
    }
   },
   "source": [
    "Now we create a DenseLayer _Hierarchical Process_ combining LIF neural _Processes_ and Dense connection _Processes_. Our _Hierarchical Process_ contains all of the variables (`u`, `v`, `bias`, `du`, `dv`, `vth`, and `s_out`) native to the LIF _Process_ plus the `weights` variable native to the Dense _Process_. The InPort to our _Hierarchical Process_ is `s_in`, which represents the spike inputs to our Dense synaptic connections. These Dense connections synapse onto a population of LIF neurons. The OutPort of our _Hierarchical Process_ is `s_out`, which represents the spikes output by the layer of LIF neurons."
   ]
  },
  {
   "cell_type": "code",
   "execution_count": 6,
   "id": "32363de8",
   "metadata": {
    "pycharm": {
     "name": "#%%\n"
    }
   },
   "outputs": [],
   "source": [
    "%%export tutorial_06\n",
    "\n",
    "class DenseLayer(AbstractProcess):\n",
    "    \"\"\"Combines Dense and LIF Processes.\n",
    "    \"\"\"\n",
    "    def __init__(self, **kwargs):\n",
    "        super().__init__(**kwargs)\n",
    "        shape = kwargs.get(\"shape\", (1, 1))\n",
    "        du = kwargs.pop(\"du\", 0)\n",
    "        dv = kwargs.pop(\"dv\", 0)\n",
    "        bias = kwargs.pop(\"bias\", 0)\n",
    "        bias_exp = kwargs.pop(\"bias_exp\", 0)\n",
    "        vth = kwargs.pop(\"vth\", 10)\n",
    "        weights = kwargs.pop(\"weights\", 0)\n",
    "\n",
    "        self.s_in = InPort(shape=(shape[1],))\n",
    "        #output of Dense synaptic connections is only used internally\n",
    "        #self.a_out = OutPort(shape=(shape[0],))\n",
    "        self.weights = Var(shape=shape, init=weights)\n",
    "        #input to LIF population from Dense synaptic connections is only used internally\n",
    "        #self.a_in = InPort(shape=(shape[0],))\n",
    "        self.s_out = OutPort(shape=(shape[0],))\n",
    "        self.u = Var(shape=(shape[0],), init=0)\n",
    "        self.v = Var(shape=(shape[0],), init=0)\n",
    "        self.bias = Var(shape=(shape[0],), init=bias)\n",
    "        self.du = Var(shape=(1,), init=du)\n",
    "        self.dv = Var(shape=(1,), init=dv)\n",
    "        self.vth = Var(shape=(1,), init=vth)\n",
    "        #self.spikes = Var(shape=(shape[0],), init=0)"
   ]
  },
  {
   "cell_type": "markdown",
   "id": "63fd361b",
   "metadata": {
    "pycharm": {
     "name": "#%% md\n"
    }
   },
   "source": [
    "## Create a _SubProcessModel_ that implements the DenseLayer _Process_ using Dense and LIF child _Processes_"
   ]
  },
  {
   "cell_type": "markdown",
   "id": "5372a5cc",
   "metadata": {
    "pycharm": {
     "name": "#%% md\n"
    }
   },
   "source": [
    "Now we will create the _SubProcessModel_ that implements our DenseLayer _Process_. This inherits from the _AbstractSubProcessModel_ class. Recall that _SubProcessModels_ also inherit the compute resource requirements from the _ProcessModels_ of their child _Processes_. In this example, we will use the LIF and Dense _ProcessModels_ requiring a CPU compute resource that were defined earlier in the tutorial,  and `SubDenseLayerModel` will therefore implicitly require the CPU compute resource. \n",
    "\n",
    "The `__init__()` constructor of `SubDenseLayerModel` builds the sub _Process_ structure of the `DenseLayer` _Process_. The `DenseLayer` _Process_ gets passed to the `__init__()` method via the `proc` attribute. The `__init__()` constructor first instantiates the child LIF and Dense _Processes_. Initial conditions of the `DenseLayer` _Process_, which are required to instantiate the child LIF and Dense _Processes_, are accessed through `proc.init_args`. \n",
    "\n",
    "We then `connect()` the in-port of the Dense child _Process_ to the in-port of the `DenseLayer` parent _Process_ and the out-port of the LIF child _Process_ to the out-port of the `DenseLayer` parent _Process_. Note that ports of the `DenseLayer` parent process are accessed using `proc.in_ports` or `proc.out_ports`, while ports of a child _Process_ like LIF are accessed using `self.lif.in_ports` and `self.lif.out_ports`. Our _ProcessModel_ also internally `connect()`s the out-port of the Dense connection child _Process_ to the in-port of the LIF neural child _Process_. \n",
    "\n",
    "The `alias()` method exposes the variables of the LIF and Dense child _Processes_ to the `DenseLayer` parent _Process_. Note that the variables of the `DenseLayer` parent _Process_ are accessed using `proc.vars`, while the variables of a child _Process_ like LIF are accessed using `self.lif.vars`. Note that unlike a _LeafProcessModel_, a _SubProcessModel_ does not require variables to be initialized with a specified data type or precision. This is because the data types and precisions of all `DenseLayer` _Process_ variables (`proc.vars`) are determined by the particular _ProcessModels_ chosen by the Run Configuration to implement the LIF and Dense child _Processes_. This allows the same _SubProcessModel_ to be used flexibly across multiple languages and compute resources when the child _Processes_ have multiple _ProcessModel_ implementations. _SubProcessModels_ thus enable the composition of complex applications agnostic of platform-specific implementations. In this example, we will implement the LIF and Dense _Processes_ with the _PyLoihiProcessModels_ defined earlier in the tutorial, so the `DenseLayer` variables aliased from LIF and Dense implicity have type `LavaPyType` and precisions as specified in `PyLifModel` and `PyDenseModel`."
   ]
  },
  {
   "cell_type": "code",
   "execution_count": 7,
   "id": "d9196df4",
   "metadata": {
    "pycharm": {
     "name": "#%%\n"
    }
   },
   "outputs": [],
   "source": [
    "%%export tutorial_06\n",
    "\n",
    "import numpy as np\n",
    "\n",
    "from lava.proc.lif.process import LIF\n",
    "from lava.proc.dense.process import Dense\n",
    "from lava.magma.core.model.sub.model import AbstractSubProcessModel\n",
    "\n",
    "from lava.magma.core.sync.protocols.loihi_protocol import LoihiProtocol\n",
    "from lava.magma.core.decorator import implements\n",
    "\n",
    "@implements(proc=DenseLayer, protocol=LoihiProtocol)\n",
    "class SubDenseLayerModel(AbstractSubProcessModel):\n",
    "\n",
    "    def __init__(self, proc):\n",
    "        \"\"\"Builds sub Process structure of the Process.\"\"\"\n",
    "        # Instantiate child processes\n",
    "        #input shape is a 2D vec (shape of weight mat)\n",
    "        shape = proc.init_args.get(\"shape\",(1,1))\n",
    "        weights = proc.init_args.get(\"weights\",(1,1))\n",
    "        bias = proc.init_args.get(\"bias\",(1,1))\n",
    "        vth = proc.init_args.get(\"vth\",(1,1))\n",
    "        #shape is a 2D vec (shape of weight mat)\n",
    "        self.dense = Dense(shape=shape, weights=weights)\n",
    "        #shape is a 1D vec\n",
    "        self.lif = LIF(shape=(shape[0],),bias=bias,vth=vth)\n",
    "        # connect Parent in port to child Dense in port\n",
    "        proc.in_ports.s_in.connect(self.dense.in_ports.s_in)\n",
    "        # connect Dense Proc out port to LIF Proc in port\n",
    "        self.dense.out_ports.a_out.connect(self.lif.in_ports.a_in)\n",
    "        # connect child LIF out port to parent out port\n",
    "        self.lif.out_ports.s_out.connect(proc.out_ports.s_out)\n",
    "\n",
    "        proc.vars.u.alias(self.lif.vars.u)\n",
    "        proc.vars.v.alias(self.lif.vars.v)\n",
    "        proc.vars.bias.alias(self.lif.vars.bias)\n",
    "        proc.vars.du.alias(self.lif.vars.du)\n",
    "        proc.vars.dv.alias(self.lif.vars.dv)\n",
    "        proc.vars.vth.alias(self.lif.vars.vth)\n",
    "        proc.vars.weights.alias(self.dense.vars.weights)\n",
    "        #proc.vars.spikes.alias(self.lif.vars.spikes)"
   ]
  },
  {
   "cell_type": "markdown",
   "id": "5a900468",
   "metadata": {
    "pycharm": {
     "name": "#%% md\n"
    }
   },
   "source": [
    "#### Exception for Windows\n",
    "\n",
    "The next cell is only needed for systems running on Windows due to an issue with the multiprocessing package. In order to execute the notebook flawlessly on Windows systems, the LIF class needs to be imported from a script and can not be defined in the notebook itself. Therefore we export a python script from this jupyter notebook and import the LIF class defined above from there.\n",
    "With this temporary solution you can still modify the classes above and rerun the notebook to see the changes. In the meantime, we are working on a permanent fix for the issue of the multiprocessing package under Windows."
   ]
  },
  {
   "cell_type": "code",
   "execution_count": 8,
   "id": "c307b156",
   "metadata": {
    "pycharm": {
     "name": "#%%\n"
    }
   },
   "outputs": [],
   "source": [
    "from sys import platform\n",
    "if platform == \"win32\" or platform == \"cygwin\":\n",
    "    from tutorial_06 import DenseLayer"
   ]
  },
  {
   "cell_type": "markdown",
   "id": "9dfb62a5",
   "metadata": {
    "pycharm": {
     "name": "#%% md\n"
    }
   },
   "source": [
    "## Run the DenseLayer _Process_"
   ]
  },
  {
   "cell_type": "markdown",
   "id": "103ea53c",
   "metadata": {
    "pycharm": {
     "name": "#%% md\n"
    }
   },
   "source": [
    "#### Run Connected DenseLayer _Processes_"
   ]
  },
  {
   "cell_type": "code",
   "execution_count": 9,
   "id": "cfa0ddfa",
   "metadata": {
    "pycharm": {
     "name": "#%%\n"
    }
   },
   "outputs": [
    {
     "name": "stdout",
     "output_type": "stream",
     "text": [
      "Layer 1 weights: \n",
      " [[0. 0. 0.]\n",
      " [0. 1. 0.]\n",
      " [0. 0. 0.]] \n",
      "\n",
      "\n",
      " ----- \n",
      "\n"
     ]
    },
    {
     "name": "stderr",
     "output_type": "stream",
     "text": [
      "Process SystemProcess-4:\n",
      "Process SystemProcess-3:\n",
      "Process SystemProcess-5:\n",
      "Process SystemProcess-6:\n",
      "Traceback (most recent call last):\n",
      "Traceback (most recent call last):\n",
      "Traceback (most recent call last):\n",
      "Traceback (most recent call last):\n",
      "  File \"/usr/lib/python3.10/multiprocessing/process.py\", line 315, in _bootstrap\n",
      "    self.run()\n",
      "  File \"/usr/lib/python3.10/multiprocessing/process.py\", line 315, in _bootstrap\n",
      "    self.run()\n",
      "  File \"/usr/lib/python3.10/multiprocessing/process.py\", line 315, in _bootstrap\n",
      "    self.run()\n",
      "  File \"/usr/lib/python3.10/multiprocessing/process.py\", line 315, in _bootstrap\n",
      "    self.run()\n",
      "  File \"/home/philipp/lava-nc/lava/src/lava/magma/runtime/message_infrastructure/multiprocessing.py\", line 39, in run\n",
      "    mp.Process.run(self)\n",
      "  File \"/home/philipp/lava-nc/lava/src/lava/magma/runtime/message_infrastructure/multiprocessing.py\", line 39, in run\n",
      "    mp.Process.run(self)\n",
      "  File \"/home/philipp/lava-nc/lava/src/lava/magma/runtime/message_infrastructure/multiprocessing.py\", line 39, in run\n",
      "    mp.Process.run(self)\n",
      "  File \"/home/philipp/lava-nc/lava/src/lava/magma/runtime/message_infrastructure/multiprocessing.py\", line 39, in run\n",
      "    mp.Process.run(self)\n",
      "  File \"/usr/lib/python3.10/multiprocessing/process.py\", line 108, in run\n",
      "    self._target(*self._args, **self._kwargs)\n",
      "  File \"/usr/lib/python3.10/multiprocessing/process.py\", line 108, in run\n",
      "    self._target(*self._args, **self._kwargs)\n",
      "  File \"/usr/lib/python3.10/multiprocessing/process.py\", line 108, in run\n",
      "    self._target(*self._args, **self._kwargs)\n",
      "  File \"/usr/lib/python3.10/multiprocessing/process.py\", line 108, in run\n",
      "    self._target(*self._args, **self._kwargs)\n",
      "  File \"/home/philipp/lava-nc/lava/src/lava/magma/runtime/runtime.py\", line 92, in target_fn\n",
      "    actor.start(*args, **kwargs)\n",
      "  File \"/home/philipp/lava-nc/lava/src/lava/magma/runtime/runtime.py\", line 92, in target_fn\n",
      "    actor.start(*args, **kwargs)\n",
      "  File \"/home/philipp/lava-nc/lava/src/lava/magma/runtime/runtime.py\", line 92, in target_fn\n",
      "    actor.start(*args, **kwargs)\n",
      "  File \"/home/philipp/lava-nc/lava/src/lava/magma/runtime/runtime.py\", line 92, in target_fn\n",
      "    actor.start(*args, **kwargs)\n",
      "  File \"/home/philipp/lava-nc/lava/src/lava/magma/core/model/py/model.py\", line 85, in start\n",
      "    self.run()\n",
      "  File \"/home/philipp/lava-nc/lava/src/lava/magma/core/model/py/model.py\", line 85, in start\n",
      "    self.run()\n",
      "  File \"/home/philipp/lava-nc/lava/src/lava/magma/runtime/runtime_services/runtime_service.py\", line 94, in start\n",
      "    self.run()\n",
      "  File \"/home/philipp/lava-nc/lava/src/lava/magma/core/model/py/model.py\", line 85, in start\n",
      "    self.run()\n",
      "  File \"/home/philipp/lava-nc/lava/src/lava/magma/core/model/py/model.py\", line 172, in run\n",
      "    self._cmd_handlers[cmd]()\n",
      "  File \"/home/philipp/lava-nc/lava/src/lava/magma/core/model/py/model.py\", line 191, in run\n",
      "    self._action = self._selector.select(*self._channel_actions)\n",
      "  File \"/home/philipp/lava-nc/lava/src/lava/magma/runtime/runtime_services/runtime_service.py\", line 356, in run\n",
      "    self._get_pm_resp()\n",
      "  File \"/home/philipp/lava-nc/lava/src/lava/magma/core/model/py/model.py\", line 313, in _spike\n",
      "    self.run_spk()\n",
      "  File \"/home/philipp/lava-nc/lava/src/lava/magma/core/model/py/model.py\", line 172, in run\n",
      "    self._cmd_handlers[cmd]()\n"
     ]
    },
    {
     "ename": "KeyboardInterrupt",
     "evalue": "",
     "output_type": "error",
     "traceback": [
      "\u001b[0;31m---------------------------------------------------------------------------\u001b[0m",
      "\u001b[0;31mKeyboardInterrupt\u001b[0m                         Traceback (most recent call last)",
      "Input \u001b[0;32mIn [9]\u001b[0m, in \u001b[0;36m<cell line: 21>\u001b[0;34m()\u001b[0m\n\u001b[1;32m     19\u001b[0m rcfg \u001b[38;5;241m=\u001b[39m Loihi1SimCfg(select_tag\u001b[38;5;241m=\u001b[39m\u001b[38;5;124m'\u001b[39m\u001b[38;5;124mfloating_pt\u001b[39m\u001b[38;5;124m'\u001b[39m, select_sub_proc_model\u001b[38;5;241m=\u001b[39m\u001b[38;5;28;01mTrue\u001b[39;00m)\n\u001b[1;32m     21\u001b[0m \u001b[38;5;28;01mfor\u001b[39;00m t \u001b[38;5;129;01min\u001b[39;00m \u001b[38;5;28mrange\u001b[39m(\u001b[38;5;241m9\u001b[39m):\n\u001b[1;32m     22\u001b[0m     \u001b[38;5;66;03m#running layer 1 runs all connected layers (layer 0)\u001b[39;00m\n\u001b[0;32m---> 23\u001b[0m     \u001b[43mlayer1\u001b[49m\u001b[38;5;241;43m.\u001b[39;49m\u001b[43mrun\u001b[49m\u001b[43m(\u001b[49m\u001b[43mcondition\u001b[49m\u001b[38;5;241;43m=\u001b[39;49m\u001b[43mRunSteps\u001b[49m\u001b[43m(\u001b[49m\u001b[43mnum_steps\u001b[49m\u001b[38;5;241;43m=\u001b[39;49m\u001b[38;5;241;43m1\u001b[39;49m\u001b[43m)\u001b[49m\u001b[43m,\u001b[49m\u001b[43mrun_cfg\u001b[49m\u001b[38;5;241;43m=\u001b[39;49m\u001b[43mrcfg\u001b[49m\u001b[43m)\u001b[49m\n\u001b[1;32m     24\u001b[0m     \u001b[38;5;28mprint\u001b[39m(\u001b[38;5;124m'\u001b[39m\u001b[38;5;124mt: \u001b[39m\u001b[38;5;124m'\u001b[39m,t)\n\u001b[1;32m     25\u001b[0m     \u001b[38;5;28mprint\u001b[39m(\u001b[38;5;124m'\u001b[39m\u001b[38;5;124mLayer 0 v: \u001b[39m\u001b[38;5;124m'\u001b[39m, layer0\u001b[38;5;241m.\u001b[39mv\u001b[38;5;241m.\u001b[39mget())\n",
      "File \u001b[0;32m~/lava-nc/lava/src/lava/magma/core/process/process.py:424\u001b[0m, in \u001b[0;36mAbstractProcess.run\u001b[0;34m(self, condition, run_cfg)\u001b[0m\n\u001b[1;32m    419\u001b[0m     \u001b[38;5;28mself\u001b[39m\u001b[38;5;241m.\u001b[39m_runtime \u001b[38;5;241m=\u001b[39m Runtime(executable,\n\u001b[1;32m    420\u001b[0m                             ActorType\u001b[38;5;241m.\u001b[39mMultiProcessing,\n\u001b[1;32m    421\u001b[0m                             loglevel\u001b[38;5;241m=\u001b[39m\u001b[38;5;28mself\u001b[39m\u001b[38;5;241m.\u001b[39mloglevel)\n\u001b[1;32m    422\u001b[0m     \u001b[38;5;28mself\u001b[39m\u001b[38;5;241m.\u001b[39m_runtime\u001b[38;5;241m.\u001b[39minitialize()\n\u001b[0;32m--> 424\u001b[0m \u001b[38;5;28;43mself\u001b[39;49m\u001b[38;5;241;43m.\u001b[39;49m\u001b[43m_runtime\u001b[49m\u001b[38;5;241;43m.\u001b[39;49m\u001b[43mstart\u001b[49m\u001b[43m(\u001b[49m\u001b[43mcondition\u001b[49m\u001b[43m)\u001b[49m\n",
      "File \u001b[0;32m~/lava-nc/lava/src/lava/magma/runtime/runtime.py:318\u001b[0m, in \u001b[0;36mRuntime.start\u001b[0;34m(self, run_condition)\u001b[0m\n\u001b[1;32m    315\u001b[0m \u001b[38;5;28;01mif\u001b[39;00m \u001b[38;5;28mself\u001b[39m\u001b[38;5;241m.\u001b[39m_is_initialized:\n\u001b[1;32m    316\u001b[0m     \u001b[38;5;66;03m# Start running\u001b[39;00m\n\u001b[1;32m    317\u001b[0m     \u001b[38;5;28mself\u001b[39m\u001b[38;5;241m.\u001b[39m_is_started \u001b[38;5;241m=\u001b[39m \u001b[38;5;28;01mTrue\u001b[39;00m\n\u001b[0;32m--> 318\u001b[0m     \u001b[38;5;28;43mself\u001b[39;49m\u001b[38;5;241;43m.\u001b[39;49m\u001b[43m_run\u001b[49m\u001b[43m(\u001b[49m\u001b[43mrun_condition\u001b[49m\u001b[43m)\u001b[49m\n\u001b[1;32m    319\u001b[0m \u001b[38;5;28;01melse\u001b[39;00m:\n\u001b[1;32m    320\u001b[0m     \u001b[38;5;28mself\u001b[39m\u001b[38;5;241m.\u001b[39mlog\u001b[38;5;241m.\u001b[39minfo(\u001b[38;5;124m\"\u001b[39m\u001b[38;5;124mRuntime not initialized yet.\u001b[39m\u001b[38;5;124m\"\u001b[39m)\n",
      "File \u001b[0;32m~/lava-nc/lava/src/lava/magma/runtime/runtime.py:336\u001b[0m, in \u001b[0;36mRuntime._run\u001b[0;34m(self, run_condition)\u001b[0m\n\u001b[1;32m    334\u001b[0m         send_port\u001b[38;5;241m.\u001b[39msend(enum_to_np(\u001b[38;5;28mself\u001b[39m\u001b[38;5;241m.\u001b[39mnum_steps))\n\u001b[1;32m    335\u001b[0m     \u001b[38;5;28;01mif\u001b[39;00m run_condition\u001b[38;5;241m.\u001b[39mblocking:\n\u001b[0;32m--> 336\u001b[0m         \u001b[38;5;28;43mself\u001b[39;49m\u001b[38;5;241;43m.\u001b[39;49m\u001b[43m_get_resp_for_run\u001b[49m\u001b[43m(\u001b[49m\u001b[43m)\u001b[49m\n\u001b[1;32m    337\u001b[0m \u001b[38;5;28;01melif\u001b[39;00m \u001b[38;5;28misinstance\u001b[39m(run_condition, RunContinuous):\n\u001b[1;32m    338\u001b[0m     \u001b[38;5;28mself\u001b[39m\u001b[38;5;241m.\u001b[39mnum_steps \u001b[38;5;241m=\u001b[39m sys\u001b[38;5;241m.\u001b[39mmaxsize\n",
      "File \u001b[0;32m~/lava-nc/lava/src/lava/magma/runtime/runtime.py:279\u001b[0m, in \u001b[0;36mRuntime._get_resp_for_run\u001b[0;34m(self)\u001b[0m\n\u001b[1;32m    277\u001b[0m \u001b[38;5;28;01mif\u001b[39;00m \u001b[38;5;28mself\u001b[39m\u001b[38;5;241m.\u001b[39m_is_running:\n\u001b[1;32m    278\u001b[0m     \u001b[38;5;28;01mfor\u001b[39;00m recv_port \u001b[38;5;129;01min\u001b[39;00m \u001b[38;5;28mself\u001b[39m\u001b[38;5;241m.\u001b[39mservice_to_runtime:\n\u001b[0;32m--> 279\u001b[0m         data \u001b[38;5;241m=\u001b[39m \u001b[43mrecv_port\u001b[49m\u001b[38;5;241;43m.\u001b[39;49m\u001b[43mrecv\u001b[49m\u001b[43m(\u001b[49m\u001b[43m)\u001b[49m\n\u001b[1;32m    280\u001b[0m         \u001b[38;5;28;01mif\u001b[39;00m enum_equal(data, MGMT_RESPONSE\u001b[38;5;241m.\u001b[39mREQ_PAUSE):\n\u001b[1;32m    281\u001b[0m             \u001b[38;5;28mself\u001b[39m\u001b[38;5;241m.\u001b[39m_req_paused \u001b[38;5;241m=\u001b[39m \u001b[38;5;28;01mTrue\u001b[39;00m\n",
      "File \u001b[0;32m~/lava-nc/lava/src/lava/magma/compiler/channels/pypychannel.py:265\u001b[0m, in \u001b[0;36mCspRecvPort.recv\u001b[0;34m(self)\u001b[0m\n\u001b[1;32m    261\u001b[0m \u001b[38;5;28;01mdef\u001b[39;00m \u001b[38;5;21mrecv\u001b[39m(\u001b[38;5;28mself\u001b[39m):\n\u001b[1;32m    262\u001b[0m     \u001b[38;5;124;03m\"\"\"\u001b[39;00m\n\u001b[1;32m    263\u001b[0m \u001b[38;5;124;03m    Receive from the channel. Blocks if there is no data on the channel.\u001b[39;00m\n\u001b[1;32m    264\u001b[0m \u001b[38;5;124;03m    \"\"\"\u001b[39;00m\n\u001b[0;32m--> 265\u001b[0m     \u001b[38;5;28;43mself\u001b[39;49m\u001b[38;5;241;43m.\u001b[39;49m\u001b[43m_queue\u001b[49m\u001b[38;5;241;43m.\u001b[39;49m\u001b[43mget\u001b[49m\u001b[43m(\u001b[49m\u001b[43m)\u001b[49m\n\u001b[1;32m    266\u001b[0m     result \u001b[38;5;241m=\u001b[39m \u001b[38;5;28mself\u001b[39m\u001b[38;5;241m.\u001b[39m_array[\u001b[38;5;28mself\u001b[39m\u001b[38;5;241m.\u001b[39m_idx]\u001b[38;5;241m.\u001b[39mcopy()\n\u001b[1;32m    267\u001b[0m     \u001b[38;5;28mself\u001b[39m\u001b[38;5;241m.\u001b[39m_idx \u001b[38;5;241m=\u001b[39m (\u001b[38;5;28mself\u001b[39m\u001b[38;5;241m.\u001b[39m_idx \u001b[38;5;241m+\u001b[39m \u001b[38;5;241m1\u001b[39m) \u001b[38;5;241m%\u001b[39m \u001b[38;5;28mself\u001b[39m\u001b[38;5;241m.\u001b[39m_size\n",
      "File \u001b[0;32m~/lava-nc/lava/src/lava/magma/compiler/channels/pypychannel.py:149\u001b[0m, in \u001b[0;36mCspRecvQueue.get\u001b[0;34m(self, block, timeout, peek)\u001b[0m\n\u001b[1;32m    147\u001b[0m \u001b[38;5;28;01melif\u001b[39;00m timeout \u001b[38;5;129;01mis\u001b[39;00m \u001b[38;5;28;01mNone\u001b[39;00m:\n\u001b[1;32m    148\u001b[0m     \u001b[38;5;28;01mwhile\u001b[39;00m \u001b[38;5;129;01mnot\u001b[39;00m \u001b[38;5;28mself\u001b[39m\u001b[38;5;241m.\u001b[39m_qsize():\n\u001b[0;32m--> 149\u001b[0m         \u001b[38;5;28;43mself\u001b[39;49m\u001b[38;5;241;43m.\u001b[39;49m\u001b[43mnot_empty\u001b[49m\u001b[38;5;241;43m.\u001b[39;49m\u001b[43mwait\u001b[49m\u001b[43m(\u001b[49m\u001b[43m)\u001b[49m\n\u001b[1;32m    150\u001b[0m \u001b[38;5;28;01melif\u001b[39;00m timeout \u001b[38;5;241m<\u001b[39m \u001b[38;5;241m0\u001b[39m:\n\u001b[1;32m    151\u001b[0m     \u001b[38;5;28;01mraise\u001b[39;00m \u001b[38;5;167;01mValueError\u001b[39;00m(\u001b[38;5;124m\"\u001b[39m\u001b[38;5;124m'\u001b[39m\u001b[38;5;124mtimeout\u001b[39m\u001b[38;5;124m'\u001b[39m\u001b[38;5;124m must be a non-negative number\u001b[39m\u001b[38;5;124m\"\u001b[39m)\n",
      "File \u001b[0;32m/usr/lib/python3.10/threading.py:320\u001b[0m, in \u001b[0;36mCondition.wait\u001b[0;34m(self, timeout)\u001b[0m\n\u001b[1;32m    318\u001b[0m \u001b[38;5;28;01mtry\u001b[39;00m:    \u001b[38;5;66;03m# restore state no matter what (e.g., KeyboardInterrupt)\u001b[39;00m\n\u001b[1;32m    319\u001b[0m     \u001b[38;5;28;01mif\u001b[39;00m timeout \u001b[38;5;129;01mis\u001b[39;00m \u001b[38;5;28;01mNone\u001b[39;00m:\n\u001b[0;32m--> 320\u001b[0m         \u001b[43mwaiter\u001b[49m\u001b[38;5;241;43m.\u001b[39;49m\u001b[43macquire\u001b[49m\u001b[43m(\u001b[49m\u001b[43m)\u001b[49m\n\u001b[1;32m    321\u001b[0m         gotit \u001b[38;5;241m=\u001b[39m \u001b[38;5;28;01mTrue\u001b[39;00m\n\u001b[1;32m    322\u001b[0m     \u001b[38;5;28;01melse\u001b[39;00m:\n",
      "\u001b[0;31mKeyboardInterrupt\u001b[0m: "
     ]
    },
    {
     "name": "stderr",
     "output_type": "stream",
     "text": [
      "  File \"/home/philipp/lava-nc/lava/src/lava/magma/compiler/channels/pypychannel.py\", line 310, in select\n",
      "    self._cv.wait()\n",
      "  File \"/home/philipp/lava-nc/lava/src/lava/magma/runtime/runtime_services/runtime_service.py\", line 208, in _get_pm_resp\n",
      "    rcv_msgs.append(ptos_recv_port.recv())\n",
      "  File \"/home/philipp/lava-nc/lava/src/lava/magma/core/model/py/model.py\", line 313, in _spike\n",
      "    self.run_spk()\n",
      "  File \"/home/philipp/lava-nc/lava/src/lava/proc/lif/models.py\", line 55, in run_spk\n",
      "    a_in_data = self.a_in.recv()\n",
      "  File \"/usr/lib/python3.10/threading.py\", line 320, in wait\n",
      "    waiter.acquire()\n",
      "  File \"/home/philipp/lava-nc/lava/src/lava/magma/compiler/channels/pypychannel.py\", line 265, in recv\n",
      "    self._queue.get()\n",
      "  File \"/home/philipp/lava-nc/lava/src/lava/proc/dense/models.py\", line 45, in run_spk\n",
      "    s_in = self.s_in.recv().astype(bool)\n",
      "KeyboardInterrupt\n",
      "  File \"/home/philipp/lava-nc/lava/src/lava/magma/core/model/py/ports.py\", line 343, in recv\n",
      "    return ft.reduce(\n",
      "  File \"/home/philipp/lava-nc/lava/src/lava/magma/compiler/channels/pypychannel.py\", line 149, in get\n",
      "    self.not_empty.wait()\n",
      "  File \"/home/philipp/lava-nc/lava/src/lava/magma/core/model/py/ports.py\", line 344, in <lambda>\n",
      "    lambda acc, port: acc + self._transformer.transform(port.recv(),\n",
      "  File \"/home/philipp/lava-nc/lava/src/lava/magma/core/model/py/ports.py\", line 343, in recv\n",
      "    return ft.reduce(\n",
      "  File \"/usr/lib/python3.10/threading.py\", line 320, in wait\n",
      "    waiter.acquire()\n",
      "  File \"/home/philipp/lava-nc/lava/src/lava/magma/core/model/py/ports.py\", line 344, in <lambda>\n",
      "    lambda acc, port: acc + self._transformer.transform(port.recv(),\n",
      "  File \"/home/philipp/lava-nc/lava/src/lava/magma/compiler/channels/pypychannel.py\", line 265, in recv\n",
      "    self._queue.get()\n",
      "  File \"/home/philipp/lava-nc/lava/src/lava/magma/compiler/channels/pypychannel.py\", line 265, in recv\n",
      "    self._queue.get()\n",
      "KeyboardInterrupt\n",
      "  File \"/home/philipp/lava-nc/lava/src/lava/magma/compiler/channels/pypychannel.py\", line 149, in get\n",
      "    self.not_empty.wait()\n",
      "  File \"/home/philipp/lava-nc/lava/src/lava/magma/compiler/channels/pypychannel.py\", line 149, in get\n",
      "    self.not_empty.wait()\n",
      "  File \"/usr/lib/python3.10/threading.py\", line 320, in wait\n",
      "    waiter.acquire()\n",
      "  File \"/usr/lib/python3.10/threading.py\", line 320, in wait\n",
      "    waiter.acquire()\n",
      "KeyboardInterrupt\n",
      "KeyboardInterrupt\n"
     ]
    }
   ],
   "source": [
    "from lava.magma.core.run_configs import RunConfig, Loihi1SimCfg\n",
    "from lava.magma.core.run_conditions import RunSteps\n",
    "\n",
    "dim=(3,3)\n",
    "#shape=dim\n",
    "#set targeted weight mat\n",
    "weights0 = np.zeros(shape=dim)\n",
    "weights0[1,1]=1\n",
    "weights1 = weights0\n",
    "#instantiate 2 DenseLayers\n",
    "layer0 = DenseLayer(shape=dim,weights=weights0, bias=4, vth=10)\n",
    "layer1 = DenseLayer(shape=dim,weights=weights1, bias=4, vth=10)\n",
    "#connect layer 0 to layer 1\n",
    "layer0.s_out.connect(layer1.s_in)\n",
    "\n",
    "print('Layer 1 weights: \\n', layer1.weights.get(),'\\n')\n",
    "print('\\n ----- \\n')\n",
    "\n",
    "rcfg = Loihi1SimCfg(select_tag='floating_pt', select_sub_proc_model=True)\n",
    "\n",
    "for t in range(9):\n",
    "    #running layer 1 runs all connected layers (layer 0)\n",
    "    layer1.run(condition=RunSteps(num_steps=1),run_cfg=rcfg)\n",
    "    print('t: ',t)\n",
    "    print('Layer 0 v: ', layer0.v.get())\n",
    "    print('Layer 1 u: ', layer1.u.get())\n",
    "    print('Layer 1 v: ', layer1.v.get())\n",
    "    #print('Layer 1 spikes: ', layer1.spikes.get())\n",
    "    print('\\n ----- \\n')"
   ]
  },
  {
   "cell_type": "code",
   "execution_count": null,
   "id": "fde367f7",
   "metadata": {
    "pycharm": {
     "name": "#%%\n"
    }
   },
   "outputs": [],
   "source": [
    "#### Exception for Windows\n",
    "Delete the created python script again."
   ]
  },
  {
   "cell_type": "code",
   "execution_count": null,
   "id": "c77799b9",
   "metadata": {
    "pycharm": {
     "name": "#%%\n"
    }
   },
   "outputs": [],
   "source": [
    "if platform == \"win32\" or platform == \"cygwin\":\n",
    "    !del tutorial_06.py"
   ]
  },
  {
   "cell_type": "markdown",
   "id": "3e7349aa-56cf-4759-9af2-15bebd63e399",
   "metadata": {},
   "source": [
    "## How to learn more?\n",
    "\n",
    "If you want to find out more about _SubProcessModels_, have a look at the [Lava documentation](https://lava-nc.org/) or dive into the [source code](https://github.com/lava-nc/lava/tree/main/src/lava/magma/core/model/sub/model.py).\n",
    "\n",
    "To receive regular updates on the latest developments and releases of the Lava Software Framework please subscribe to [our newsletter](http://eepurl.com/hJCyhb)."
   ]
  }
 ],
 "metadata": {
  "kernelspec": {
   "display_name": "Python 3 (ipykernel)",
   "language": "python",
   "name": "python3"
  },
  "language_info": {
   "codemirror_mode": {
    "name": "ipython",
    "version": 3
   },
   "file_extension": ".py",
   "mimetype": "text/x-python",
   "name": "python",
   "nbconvert_exporter": "python",
   "pygments_lexer": "ipython3",
   "version": "3.10.4"
  }
 },
 "nbformat": 4,
 "nbformat_minor": 5
}
