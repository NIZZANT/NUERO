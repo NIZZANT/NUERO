{
 "cells": [
  {
   "cell_type": "markdown",
   "id": "3fd51524",
   "metadata": {},
   "source": [
    "*Copyright (C) 2022 Intel Corporation*<br>\n",
    "*SPDX-License-Identifier: BSD-3-Clause*<br>\n",
    "*See: https://spdx.org/licenses/*\n",
    "\n",
    "---\n",
    "\n",
    "# Excitatory-Inhibitory Spiking Neural Network with Lava"
   ]
  },
  {
   "cell_type": "markdown",
   "id": "8ac8ba24",
   "metadata": {},
   "source": [
    "_**Motivation**: In this tutorial, we will build a Lava Process for a spiking neural\n",
    "network of excitatory and inhibitory neurons (E/I network) using the Lava Processes for LIF\n",
    "neurons and Dense connectivity. The tutorial is useful to get started with Lava in a few minutes._"
   ]
  },
  {
   "cell_type": "markdown",
   "id": "3fbb06e6",
   "metadata": {},
   "source": [
    "#### This tutorial assumes that you:\n",
    "- have the [Lava framework installed](../in_depth/tutorial01_installing_lava.ipynb \"Tutorial on Installing Lava\")\n",
    "- are familiar with the [Process concept in Lava](../in_depth/tutorial02_processes.ipynb \"Tutorial on Processes\")\n",
    "\n",
    "#### This tutorial gives a bird's-eye view of\n",
    "- how with Lava you can implement a simple E/I Network using\n",
    "[Leaky Integrate-and-Fire (LIF)](https://github.com/lava-nc/lava/tree/main/src/lava/proc/lif \"Lava's LIF neuron\") neurons and [Dense\n",
    "(fully connected)](https://github.com/lava-nc/lava/tree/main/src/lava/proc/dense \"Lava's Dense Connectivity\") connectivity.\n",
    "- how to use Hierarchical Process to build more complicated Processes from simpler ones\n",
    "- how to create a SubProcessModels for this Hierarchical Process using already defined ProcessModels for a swift execution\n",
    "\n",
    "\n",
    "(Add diagram) </br>\n",
    "\n",
    "#### E/I Network\n",
    "In this tutorial, we build a Lava Process for an E/I network. E/I networks are fundamental examples of recurrent spiking neural networks mimicking the structure of the brain and exhibting rich dynamical behavior. </br>\n",
    "As depicted above, the network consists of LIF neurons which are connected to a dense layer with specified weights which again connectes to the LIF neurons. </br>\n",
    "With an additional inpurt one can feed in external activations into the network, the outport allows for reading out spikes."
   ]
  },
  {
   "cell_type": "markdown",
   "id": "89344cf6",
   "metadata": {},
   "source": [
    "#### General imports"
   ]
  },
  {
   "cell_type": "code",
   "execution_count": 1,
   "id": "257a6fe8",
   "metadata": {},
   "outputs": [],
   "source": [
    "import numpy as np\n",
    "from matplotlib import pyplot as plt"
   ]
  },
  {
   "cell_type": "markdown",
   "id": "de1acd9c",
   "metadata": {},
   "source": [
    "#### E/I Network Lava Process\n",
    "We define the structure of the E/I Network Lava Hierarchical Process class. </br>\n",
    "The definition reflects the structure of the Lava Processes used to build the Hierarchical Process. </br>"
   ]
  },
  {
   "cell_type": "code",
   "execution_count": 2,
   "id": "497c0d06",
   "metadata": {},
   "outputs": [],
   "source": [
    "# Import Process level primitives\n",
    "from lava.magma.core.process.process import AbstractProcess\n",
    "from lava.magma.core.process.variable import Var\n",
    "from lava.magma.core.process.ports.ports import InPort, OutPort"
   ]
  },
  {
   "cell_type": "code",
   "execution_count": 3,
   "id": "159d9263",
   "metadata": {},
   "outputs": [],
   "source": [
    "class EINetwork(AbstractProcess):\n",
    "    \"\"\"Network of recurrently connected neurons\n",
    "    with given weight matrix\n",
    "    \"\"\"\n",
    "    def __init__(self, **kwargs):\n",
    "        super().__init__(**kwargs)\n",
    "        shape = kwargs.get(\"shape\", (1,))\n",
    "        du = kwargs.pop(\"du\", 0)\n",
    "        dv = kwargs.pop(\"dv\", 0)\n",
    "        vth = kwargs.pop(\"vth\", 10)\n",
    "        bias_mant = kwargs.pop(\"bias_mant\", 0)\n",
    "        bias_exp = kwargs.pop(\"bias_exp\", 0)\n",
    "        weights = kwargs.pop(\"weights\", 0)\n",
    "        \n",
    "        # Ports for receiving input or sending output\n",
    "        self.a_in = InPort(shape=shape)\n",
    "        self.s_out = OutPort(shape=shape)\n",
    "\n",
    "        # Variables for LIF Process\n",
    "        self.du = Var(shape=(1,), init=du)\n",
    "        self.dv = Var(shape=(1,), init=dv)\n",
    "        self.vth = Var(shape=(1,), init=vth)\n",
    "        self.bias_mant = Var(shape=shape, init=bias_mant)\n",
    "        self.bias_exp = Var(shape=shape, init=bias_exp)\n",
    "        \n",
    "        # Variable for Dense Process\n",
    "        self.weights = Var(shape=(shape[0], shape[0]), init=weights)"
   ]
  },
  {
   "cell_type": "markdown",
   "id": "01b9eabc",
   "metadata": {},
   "source": [
    "#### ProcessModels for Python execution"
   ]
  },
  {
   "cell_type": "code",
   "execution_count": 4,
   "id": "bc319315",
   "metadata": {},
   "outputs": [],
   "source": [
    "# Import parent classes for ProcessModels for Hierarchical Processes\n",
    "from lava.magma.core.model.sub.model import AbstractSubProcessModel\n",
    "\n",
    "# Import execution protocol\n",
    "from lava.magma.core.sync.protocols.loihi_protocol import LoihiProtocol\n",
    "\n",
    "# Import decorators\n",
    "from lava.magma.core.decorator import implements"
   ]
  },
  {
   "cell_type": "markdown",
   "id": "4ed07fb5",
   "metadata": {},
   "source": [
    "#### E/I Network Subprocess Model\n",
    "Using the behavior defined for the [LIF](https://github.com/lava-nc/lava/tree/main/src/lava/proc/lif \"Lava's LIF neuron\") and [Dense](https://github.com/lava-nc/lava/tree/main/src/lava/proc/dense \"Lava's Dense Connectivity\") Processes, we define the behavior of the E/I Network Process. </br>"
   ]
  },
  {
   "cell_type": "code",
   "execution_count": 5,
   "id": "6dc54408",
   "metadata": {},
   "outputs": [],
   "source": [
    "from lava.proc.dense.process import Dense\n",
    "from lava.proc.lif.process import LIF\n",
    "\n",
    "@implements(proc=EINetwork, protocol=LoihiProtocol)\n",
    "class SubEINetworkModel(AbstractSubProcessModel):\n",
    "    def __init__(self, proc):\n",
    "        shape = proc.proc_params.get(\"shape\", (1,))\n",
    "        du = proc.proc_params.get(\"du\", (1,))\n",
    "        dv = proc.proc_params.get(\"dv\", (1,))\n",
    "        vth = proc.proc_params.get(\"vth\", (1,))\n",
    "        bias_mant = proc.proc_params.get(\"bias_mant\", (1,))\n",
    "        bias_exp = proc.proc_params.get(\"bias_exp\", (1,))\n",
    "        weights = proc.proc_params.get(\"weights\", (1,))\n",
    "\n",
    "        # Instantiate LIF and Dense Lava Processes\n",
    "        self.lif = LIF(shape=shape,\n",
    "                       du=du,\n",
    "                       dv=dv,\n",
    "                       vth=vth,\n",
    "                       bias_mant=bias_mant,\n",
    "                       bias_exp=bias_exp)\n",
    "        self.dense = Dense(weights=weights)\n",
    "            \n",
    "        # Recurrently connect neurons to E/I Network\n",
    "        self.lif.out_ports.s_out.connect(self.dense.in_ports.s_in)\n",
    "        self.dense.out_ports.a_out.connect(self.lif.in_ports.a_in)\n",
    "\n",
    "        # Connect incoming activation to neurons and elicited spikes to ouport\n",
    "        proc.in_ports.a_in.connect(self.lif.in_ports.a_in)\n",
    "        self.lif.out_ports.s_out.connect(proc.out_ports.s_out)"
   ]
  },
  {
   "cell_type": "markdown",
   "id": "83c46223",
   "metadata": {},
   "source": [
    "#### Defining the parameters for the network\n",
    "We define the parameters for the single neurons as well as the recurrent connectivity of the neurons. </br>\n",
    "The recurrent weights encode the difference between excitatory and inhibitory neurons. </br>\n",
    "Moreover, the weights must *balance* the network, i.e. the average recurrent input to a neuron must be less or equal than $0$.  Otherwise, the network activity is caught up in a positive feedback loop and explodes. </br>\n",
    "We here follow the common choice that the ration $\\gamma$ between the number of excitatory and inhibitory neurons equals $4$ and that the connection probability between two arbitrary neurons is identical. "
   ]
  },
  {
   "cell_type": "code",
   "execution_count": 6,
   "id": "a4cb58c2",
   "metadata": {},
   "outputs": [],
   "source": [
    "# Fix randomness\n",
    "np.random.seed(1234)\n",
    "\n",
    "# Fix network size\n",
    "num_neurons = 300\n",
    "shape = (num_neurons,)\n",
    "\n",
    "# Single neuron paramters\n",
    "# Bias_mant is set to make the neuron spike\n",
    "lif_params = {\n",
    "    \"vth\": 1,\n",
    "    \"du\": 0.01,\n",
    "    \"dv\": 0.1,\n",
    "    \"bias_mant\": 0.101}\n",
    "\n",
    "# inhibition-exciation balance for scaling inhibitory weights to maintain balance (4 times as many excitatory neurons)\n",
    "g = 4\n",
    "\n",
    "# Generate connectivity\n",
    "# W[i, j] is connection weight from pre-synaptic neuron j to post-synaptic neuron i\n",
    "# Set scaled standard deviation of recurrent weights\n",
    "J = 0.5 / np.sqrt(num_neurons)\n",
    "weights = np.random.normal(0, J, (num_neurons, num_neurons)) * lif_params['du']\n",
    "\n",
    "# Impose constraint that neurons can **either** be excitatory (positive weight) **or** inhibitory (negative weight)\n",
    "# We use the commen choice of 4 times as many (i.e. 80%) excitatory neurons\n",
    "n_exc = int(num_neurons * 0.8)\n",
    "mask_pos_weights = (weights > 0)\n",
    "mask_neg_weights = (weights < 0)\n",
    "\n",
    "exc_conns = np.full(weights.shape, True)\n",
    "exc_conns[:, n_exc:] = False # Set entries for inhibitory neurons to False\n",
    "inh_conns = np.invert(exc_conns)\n",
    "\n",
    "# Set negative weights of exciatory neurons to zero and similarly for inhibitory neurons -> induce sparsity\n",
    "weights[mask_neg_weights * exc_conns] = 0\n",
    "weights[mask_pos_weights * inh_conns] = 0\n",
    "\n",
    "# We finally need to increase the inhibitory weights by a factor of 4 to maintain balance\n",
    "weights[inh_conns] *= g\n",
    "\n",
    "# Parameters Paramters for E/I network\n",
    "ei_network_params = {\"shape\": shape, \"weights\": weights, **lif_params}"
   ]
  },
  {
   "cell_type": "markdown",
   "id": "bd11399c",
   "metadata": {},
   "source": [
    "#### Execution and Results"
   ]
  },
  {
   "cell_type": "code",
   "execution_count": 8,
   "id": "ec3b4416",
   "metadata": {},
   "outputs": [],
   "source": [
    "from lava.magma.core.run_conditions import RunSteps\n",
    "from lava.magma.core.run_configs import Loihi1SimCfg\n",
    "# Import io processes\n",
    "from lava.proc.io import sink, source\n",
    "\n",
    "# Configurations for execution\n",
    "num_steps = 500\n",
    "rcfg = Loihi1SimCfg(select_tag='floating_pt', select_sub_proc_model=True)\n",
    "run_cond = RunSteps(num_steps=num_steps)\n",
    "\n",
    "# Instantiating network and IO processes\n",
    "network = EINetwork(**ei_network_params)\n",
    "inport_plug = source.RingBuffer(data=np.zeros((num_neurons, 1)))\n",
    "outport_plug = sink.RingBuffer(shape=shape, buffer=num_steps)\n",
    "\n",
    "inport_plug.s_out.connect(network.a_in)\n",
    "network.s_out.connect(outport_plug.a_in)\n",
    "\n",
    "network.run(condition=run_cond, run_cfg=rcfg)\n",
    "\n",
    "# Fetching spiking activity\n",
    "spks = outport_plug.data.get()\n",
    "\n",
    "network.stop()"
   ]
  },
  {
   "cell_type": "markdown",
   "id": "3c02ce1d",
   "metadata": {},
   "source": [
    "#### Visualizing the acitvity\n",
    "First, we visually inspect to spiking activity of the neurons in the network.\n",
    "To this end, we display neurons on the vertical axis and mark the time step when a neuron spiked."
   ]
  },
  {
   "cell_type": "code",
   "execution_count": 9,
   "id": "abac04ec",
   "metadata": {},
   "outputs": [],
   "source": [
    "def raster_plot(spks, stride=6):\n",
    "    \"\"\"Generate raster plot of spiking activity\n",
    "    \n",
    "    Parameters\n",
    "    ----------\n",
    "    \n",
    "    spks : np.ndarray shape (num_neurons, timesteps)\n",
    "        Spiking activity of neurons, a spike is indicated by a one    \n",
    "    stride : int\n",
    "        Stride for plotting neurons\n",
    "    \"\"\"\n",
    "    num_time_steps = spks.shape[1]\n",
    "    assert stride < num_time_steps, \"Stride must be smaller then number of time steps\"\n",
    "    \n",
    "    time_steps = np.arange(0, num_time_steps, 1)\n",
    "    \n",
    "    plt.figure(figsize=(10,5))\n",
    "    timesteps = spks.shape[1]\n",
    "    \n",
    "    plt.xlim(-1, num_time_steps)\n",
    "    plt.yticks([])\n",
    "    \n",
    "    plt.xlabel('Time steps')\n",
    "    plt.ylabel('Neurons')\n",
    "    \n",
    "    for i in range(0, num_neurons, stride):\n",
    "        spike_times = time_steps[spks[i] == 1]\n",
    "        plt.plot(spike_times,\n",
    "                 i * np.ones(spike_times.shape),\n",
    "                 linestyle=' ',\n",
    "                 marker='o',\n",
    "                 markersize=1.5,\n",
    "                 color='b')\n",
    "        \n",
    "        "
   ]
  },
  {
   "cell_type": "code",
   "execution_count": 10,
   "id": "5cb611d2",
   "metadata": {},
   "outputs": [
    {
     "data": {
      "image/png": "[encoded data removed]",
      "text/plain": [
       "<Figure size 720x360 with 1 Axes>"
      ]
     },
     "metadata": {
      "needs_background": "light"
     },
     "output_type": "display_data"
    }
   ],
   "source": [
    "raster_plot(spks=spks)"
   ]
  },
  {
   "cell_type": "markdown",
   "id": "81e1c3a9",
   "metadata": {},
   "source": [
    "After an initial synchronous burst (all neurons are simultaneously driven to the threshold by the external current), we observe an immediate decoupling of the single neuron activities due to the recurrent connectivity. </br>\n",
    "Overall, we see a heterogeneous network state with asynchronous spiking across neurons. </br>"
   ]
  },
  {
   "cell_type": "markdown",
   "id": "76ebd05a",
   "metadata": {},
   "source": [
    "#### Further analysis\n",
    "Another hallmark property of the network activity is the *auto-correlation function* $c(\\tau)$. </br>\n",
    "With this function, one can assess the *memory* of the network. </br>\n",
    "Denoting the network activity by $a$, the *auto-correlation function* is the Pearson correlation (here denoted $\\mathrm{Corr}(\\cdot, \\cdot)$) of $a$ with a time shifted version of itself: </br>\n",
    "\\begin{equation}\n",
    "    c(\\tau) = \\mathrm{Corr}(a(t), a(t+\\tau))\n",
    "\\end{equation}\n",
    "This means for positive $\\tau$ the value of the auto-correlation function gives a measure for the similarity of the network state $a(t)$ and $a(t+\\tau)$. </br>\n",
    "If $c(\\tau)$ is significantly greater than zero for large $\\tau$, the network has *memory* of its previous states."
   ]
  },
  {
   "cell_type": "code",
   "execution_count": 11,
   "id": "2b40227d",
   "metadata": {},
   "outputs": [],
   "source": [
    "from scipy.stats import pearsonr\n",
    "\n",
    "def auto_corr_fct(spks, max_lag):\n",
    "    \"\"\"Auto-correlation function of parallel spike trains\n",
    "    \n",
    "    Parameters\n",
    "    ----------\n",
    "    \n",
    "    spks : np.ndarray shape (num_neurons, timesteps)\n",
    "        Spiking activity of neurons, a spike is indicated by a one    \n",
    "    max_lag : int\n",
    "        Maximal lag for compuation of auto-correlation function\n",
    "        \n",
    "    Returns:\n",
    "    \n",
    "    lags : np.ndarray\n",
    "        lags for auto-correlation function\n",
    "    auto_corr_fct : np.ndarray\n",
    "        auto-correlation function\n",
    "    \"\"\"\n",
    "    assert max_lag < spks.shape[1], 'Maximal lag must be smaller then total number of time points'\n",
    "    auto_corr_fct = np.zeros(2 * max_lag + 1)\n",
    "    lags = np.linspace(-1 * max_lag, max_lag, 2 * max_lag + 1, dtype=int)\n",
    "    \n",
    "    for i, lag in enumerate(lags):\n",
    "        shifted_spks = np.roll(spks, shift=lag, axis=1)\n",
    "        auto_corrs = np.zeros(spks.shape[0])\n",
    "        for j, spk in enumerate(spks):\n",
    "            auto_corrs[j] = pearsonr(spk, shifted_spks[j])[0]\n",
    "        auto_corr_fct[i] = np.mean(auto_corrs)\n",
    "        \n",
    "    return lags, auto_corr_fct\n",
    "    \n",
    "    "
   ]
  },
  {
   "cell_type": "code",
   "execution_count": 12,
   "id": "9036e802",
   "metadata": {},
   "outputs": [
    {
     "data": {
      "text/plain": [
       "[<matplotlib.lines.Line2D at 0x7f72f5263040>]"
      ]
     },
     "execution_count": 12,
     "metadata": {},
     "output_type": "execute_result"
    },
    {
     "data": {
      "image/png": "[encoded data removed]",
      "text/plain": [
       "<Figure size 504x360 with 1 Axes>"
      ]
     },
     "metadata": {
      "needs_background": "light"
     },
     "output_type": "display_data"
    }
   ],
   "source": [
    "lags, ac_fct = auto_corr_fct(spks=spks, max_lag=20)\n",
    "\n",
    "# Plotting the auto-correlation function\n",
    "plt.figure(figsize=(7,5))\n",
    "plt.xlabel('Lag')\n",
    "plt.ylabel('Correlation')\n",
    "plt.plot(lags, ac_fct)"
   ]
  },
  {
   "cell_type": "markdown",
   "id": "e9b7ae8a",
   "metadata": {},
   "source": [
    "As expected, there is perfect correlation at a time lag of $0$. </br>\n",
    "We moreover see that for positive time lags the correlation is close to zero. </br>\n",
    "This means that the network has no memory of its previous states: Already after one time step we lost almost all information of the previous network state. </br>\n",
    "Such a network is unfit to perform meaningful computation."
   ]
  },
  {
   "cell_type": "markdown",
   "id": "91374486",
   "metadata": {},
   "source": [
    "#### Controlling the network\n",
    "One of the main control parameters we can tune for the above network is the strength of the recurrent weights. </br>\n",
    "Increasing the weights by scaling them up and leaving the rest (also the existence) of connections unchanged leads to a fundamentally different network state."
   ]
  },
  {
   "cell_type": "code",
   "execution_count": 13,
   "id": "a2bf48c4",
   "metadata": {},
   "outputs": [],
   "source": [
    "# Changing the strenghts of the recurrent connections\n",
    "ei_network_params['weights'] = 1e2 * ei_network_params['weights']\n",
    "\n",
    "# Configurations for execution\n",
    "num_steps = 500\n",
    "rcfg = Loihi1SimCfg(select_tag='floating_pt', select_sub_proc_model=True)\n",
    "run_cond = RunSteps(num_steps=num_steps)\n",
    "\n",
    "# Creating new new network with changed weights\n",
    "network_strong_weights = EINetwork(**ei_network_params)\n",
    "inport_plug_strong_weights = source.RingBuffer(data=np.zeros((num_neurons, 1)))\n",
    "outport_plug_strong_weights = sink.RingBuffer(shape=shape, buffer=num_steps)\n",
    "\n",
    "inport_plug_strong_weights.s_out.connect(network_strong_weights.a_in)\n",
    "network_strong_weights.s_out.connect(outport_plug_strong_weights.a_in)\n",
    "\n",
    "network_strong_weights.run(condition=run_cond, run_cfg=rcfg)\n",
    "\n",
    "# Fetching spiking activity\n",
    "spks_strong_weights = outport_plug_strong_weights.data.get()\n",
    "\n",
    "network.stop()"
   ]
  },
  {
   "cell_type": "code",
   "execution_count": 14,
   "id": "bd6aba46",
   "metadata": {},
   "outputs": [
    {
     "data": {
      "image/png": "[encoded data removed]",
      "text/plain": [
       "<Figure size 720x360 with 1 Axes>"
      ]
     },
     "metadata": {
      "needs_background": "light"
     },
     "output_type": "display_data"
    }
   ],
   "source": [
    "raster_plot(spks=spks_strong_weights)"
   ]
  },
  {
   "cell_type": "markdown",
   "id": "3fcf5169",
   "metadata": {},
   "source": [
    "Here we see a qualitatively different network activity where the recurrent connections play a more dominant role: </br>\n",
    "At seemingly random times, single neurons enter into active states of variable length. </br>\n",
    "Next, we have a look at the auto-correlation function of the network."
   ]
  },
  {
   "cell_type": "code",
   "execution_count": 15,
   "id": "55c87ab0",
   "metadata": {},
   "outputs": [
    {
     "data": {
      "text/plain": [
       "[<matplotlib.lines.Line2D at 0x7f73047e24c0>]"
      ]
     },
     "execution_count": 15,
     "metadata": {},
     "output_type": "execute_result"
    },
    {
     "data": {
      "image/png": "[encoded data removed]",
      "text/plain": [
       "<Figure size 504x360 with 1 Axes>"
      ]
     },
     "metadata": {
      "needs_background": "light"
     },
     "output_type": "display_data"
    }
   ],
   "source": [
    "lags, ac_fct_strong_weights = auto_corr_fct(spks=spks_strong_weights, max_lag=20)\n",
    "\n",
    "# Plotting the auto-correlation function\n",
    "plt.figure(figsize=(7,5))\n",
    "plt.xlabel('Lag')\n",
    "plt.ylabel('Correlation')\n",
    "plt.plot(lags, ac_fct_strong_weights)"
   ]
  },
  {
   "cell_type": "markdown",
   "id": "094b013f",
   "metadata": {},
   "source": [
    "We observe a slowly decaying auto-correlation function. </br>\n",
    "These long-lasting temporal correlations are related to a critical network state and the edge of chaos: different inital conditions have a long-lasting effect on the network activity. </br>\n",
    "This implies the network is in a suitable regime for computation, e.g. in the context of reservoir computing."
   ]
  }
 ],
 "metadata": {
  "kernelspec": {
   "display_name": "Python 3 (ipykernel)",
   "language": "python",
   "name": "python3"
  },
  "language_info": {
   "codemirror_mode": {
    "name": "ipython",
    "version": 3
   },
   "file_extension": ".py",
   "mimetype": "text/x-python",
   "name": "python",
   "nbconvert_exporter": "python",
   "pygments_lexer": "ipython3",
   "version": "3.8.10"
  }
 },
 "nbformat": 4,
 "nbformat_minor": 5
}
