{
 "cells": [
  {
   "cell_type": "markdown",
   "id": "df0639b0",
   "metadata": {},
   "source": [
    "*Copyright (C) 2021 Intel Corporation*<br>\n",
    "*SPDX-License-Identifier: BSD-3-Clause*<br>\n",
    "*See: https://spdx.org/licenses/*\n",
    "\n",
    "---\n",
    "\n",
    "# Hierarchical _Processes_ and _SubProcessModels_\n",
    "\n",
    "Previous tutorials have briefly covered that there are two categories of _ProcessModels_: _LeafProcessModels_ and _SubProcessModels_. The [ProcessModel Tutorial](#tutorial03_process_models.ipynb) explained _LeafProcessModels_ in detail. These implement the behavior of a _Process_ directly, in the language (for example, Python or Loihi Neurocore API) required for a particular compute resource (for example, a CPU or Loihi Neurocores). _SubProcessModels_, by contrast, allow users to implement and compose the behavior of a process _using other processes_. This enables the creation of Hierarchical _Processes_ and reuse of primitive _Process_ Models to realize more complex _ProcessModels_. _SubProcessModels_ inherit all compute resource requirements from the sub _Processes_ they instantiate. \n",
    "\n",
    "<img src=\"https://raw.githubusercontent.com/lava-nc/lava-nc.github.io/main/_static/images/tutorial07/fig01_subprocessmodels.png\"/>\n",
    "\n",
    "In this tutorial, we will create a Dense Layer Hierarchical Process that has the behavior of a fully connected layer of Leaky-Integrate-and-Fire (LIF) neurons. The Dense Layer Process Model implements this behavior via the primitive LIF and Dense Connection Processes and their respective PyLoihiProcessModels."
   ]
  },
  {
   "cell_type": "markdown",
   "id": "361b53f8-24da-4b60-93b5-ece9e05a7eca",
   "metadata": {},
   "source": [
    "## Recommended tutorials before starting: \n",
    "\n",
    "- [Installing Lava](./tutorial01_installing_lava.ipynb \"Tutorial on Installing Lava\")\n",
    "- [Processes](./tutorial02_processes.ipynb \"Tutorial on Processes\")\n",
    "- [ProcessModel](./tutorial03_process_models.ipynb \"Tutorial on ProcessModels\")\n",
    "- [Execution](./tutorial04_execution.ipynb \"Tutorial on Executing Processes\")\n",
    "- [Connecting Processes](./tutorial05_connect_processes.ipynb \"Tutorial on Connecting Processes\")"
   ]
  },
  {
   "cell_type": "markdown",
   "id": "25486c95",
   "metadata": {},
   "source": [
    "## Create a Dense Connection _Process_ and _ProcessModel_"
   ]
  },
  {
   "cell_type": "markdown",
   "id": "0d9dca97",
   "metadata": {},
   "source": [
    "The [ProcessModel Tutorial](#tutorial03_process_models.ipynb) walks through the creation of a LIF _Process_ and an implementing _PyLoihiProcessModel_. Our DenseLayer _Process_ also requires a Dense Lava _Process_ and _ProcessModel_ that have the behavior of a dense set of synaptic connections and weights. The Dense Connection _Process_ can be used to connect neural _Processes_. For completeness, we'll first show how to create this Dense Connection _Process_ and _ProcessModel_."
   ]
  },
  {
   "cell_type": "markdown",
   "id": "a41d3af0",
   "metadata": {},
   "source": [
    "#### Create a Dense Connection Process"
   ]
  },
  {
   "cell_type": "code",
   "execution_count": 15,
   "id": "c44a34ac",
   "metadata": {},
   "outputs": [],
   "source": [
    "from lava.magma.core.process.process import AbstractProcess\n",
    "from lava.magma.core.process.variable import Var\n",
    "from lava.magma.core.process.ports.ports import InPort, OutPort\n",
    "\n",
    "\n",
    "class Dense(AbstractProcess):\n",
    "    \"\"\"Dense connections between neurons.\n",
    "    Realizes the following abstract behavior:\n",
    "    a_out = W * s_in\n",
    "    \"\"\"\n",
    "\n",
    "    def __init__(self, **kwargs):\n",
    "        # super(AbstractProcess, self).__init__(kwargs)\n",
    "        # shape = kwargs.pop(\"shape\")\n",
    "        super().__init__(**kwargs)\n",
    "        shape = kwargs.get(\"shape\", (1, 1))\n",
    "        self.s_in = InPort(shape=(shape[1],))\n",
    "        self.a_out = OutPort(shape=(shape[0],))\n",
    "        self.weights = Var(shape=shape, init=kwargs.pop(\"weights\", 0))"
   ]
  },
  {
   "cell_type": "markdown",
   "id": "3388c481",
   "metadata": {},
   "source": [
    "#### Create a Python Dense Connection Process Model implementing the Loihi Sync Protocol and requiring a CPU compute resource"
   ]
  },
  {
   "cell_type": "code",
   "execution_count": 16,
   "id": "cf921be5",
   "metadata": {},
   "outputs": [],
   "source": [
    "import numpy as np\n",
    "\n",
    "from lava.magma.core.sync.protocols.loihi_protocol import LoihiProtocol\n",
    "from lava.magma.core.model.py.ports import PyInPort, PyOutPort\n",
    "from lava.magma.core.model.py.type import LavaPyType\n",
    "from lava.magma.core.resources import CPU\n",
    "from lava.magma.core.decorator import implements, requires\n",
    "from lava.magma.core.model.py.model import PyLoihiProcessModel\n",
    "from lava.proc.dense.process import Dense\n",
    "\n",
    "\n",
    "@implements(proc=Dense, protocol=LoihiProtocol)\n",
    "@requires(CPU)\n",
    "class PyDenseModel(PyLoihiProcessModel):\n",
    "    s_in: PyInPort = LavaPyType(PyInPort.VEC_DENSE, bool, precision=1)\n",
    "    a_out: PyOutPort = LavaPyType(PyOutPort.VEC_DENSE, np.int32, precision=16)\n",
    "    weights: np.ndarray = LavaPyType(np.ndarray, np.int32, precision=8)\n",
    "\n",
    "    def run_spk(self):\n",
    "        s_in = self.s_in.recv()\n",
    "        a_out = self.weights[:, s_in].sum(axis=1)\n",
    "        self.a_out.send(a_out)"
   ]
  },
  {
   "cell_type": "markdown",
   "id": "639dc805",
   "metadata": {},
   "source": [
    "## Create a DenseLayer Hierarchical _Process_ that encompasses Dense and LIF _Process_ behavior"
   ]
  },
  {
   "cell_type": "markdown",
   "id": "c0a6aa43",
   "metadata": {},
   "source": [
    "Now we create a Dense Layer Hierarchical Process combing LIF neural Processes and Dense connection Processes. Our Hierarchical Process contains all of the variables (`u`, `v`, `bias`, `du`, `dv`, and `vth`) native to the LIF Process plus the `weights` variable native to the Dense Process. The InPort to our Hierarchical Process is `s_in`, which represents the input spikes to our Dense synaptic connections. These Dense connections synapse onto a population of LIF neurons. The OutPort of our Hierarchical Process is `s_out`, which represents the spikes output by the layer of LIF neurons."
   ]
  },
  {
   "cell_type": "code",
   "execution_count": 17,
   "id": "3035e530",
   "metadata": {},
   "outputs": [],
   "source": [
    "from lava.magma.core.process.process import AbstractProcess\n",
    "from lava.magma.core.process.variable import Var\n",
    "from lava.magma.core.process.ports.ports import InPort, OutPort\n",
    "\n",
    "class DenseLayer(AbstractProcess):\n",
    "    \"\"\"Combines Dense and LIF Processes.\n",
    "    \"\"\"\n",
    "\n",
    "    def __init__(self, **kwargs):\n",
    "        super().__init__(**kwargs)\n",
    "        shape = kwargs.get(\"shape\", (1, 1))\n",
    "        self.s_in = InPort(shape=(shape[1],))\n",
    "        #output of Dense synaptic connections is only used internally\n",
    "        #self.a_out = OutPort(shape=(shape[0],))\n",
    "        self.weights = Var(shape=shape, init=kwargs.pop('weights', 0))\n",
    "        #input to LIF population from Dense synaptic connections is only used internally\n",
    "        #self.a_in = InPort(shape=(shape[0],))\n",
    "        self.s_out = OutPort(shape=(shape[0],))\n",
    "        self.u = Var(shape=(shape[0],), init=0)\n",
    "        self.v = Var(shape=(shape[0],), init=0)\n",
    "        self.bias = Var(shape=(shape[0],), init=kwargs.pop(\"bias\", 0))\n",
    "        self.du = Var(shape=(1,), init=kwargs.pop(\"du\", 0))\n",
    "        self.dv = Var(shape=(1,), init=kwargs.pop(\"dv\", 0))\n",
    "        self.vth = Var(shape=(1,), init=kwargs.pop(\"vth\", 10))"
   ]
  },
  {
   "cell_type": "markdown",
   "id": "fd62de90",
   "metadata": {},
   "source": [
    "## Create a _SubProcessModel_ that implements the DenseLayer _Process_ using Dense and LIF child _Processes_"
   ]
  },
  {
   "cell_type": "markdown",
   "id": "97ee227b",
   "metadata": {},
   "source": [
    "Now we will create the _SubProcessModel_ that implements our DenseLayer _Process_. This inherits from the _AbstractSubProcessModel_ class. Recall that _SubProcessModels_ also inherit the compute resource requirements from the child _Processes_ they instantiate. Therefore, _SubDenseLayerModel_ implicitly requires the CPU compute resource required by our LIF and Dense child _Processes_. \n",
    "\n",
    "The ports (`s_in`,`s_out`) and variables (`u`,`v`,`bias`,`du`,`dv`,`vth`,`weights`) of the _SubProcessModel_ `SubDenseLayerModel` must exactly match (in name and number) the ports and variables of the `DenseLayer` _Process_ for proper compilation. As is true for all _PyProcessModels_, the ports of `SubDenseLayerModel` have type _PyInPort_ and _PyOutPort_, and the variables of `SubDenseLayerModel` must be initialized as the _LavaPyType_.\n",
    "\n",
    "The `__init__()` method of `SubDenseLayerModel` builds the sub _Process_ structure of the `DenseLayer` _Process_. The `DenseLayer` _Process_ gets passed to the `__init__()` method via the `proc` attribute. The `__init__()` method first instantiates the child LIF and Dense _Processes_. Initial conditions of the `DenseLayer` _Process_, which are required to instantiate the child LIF and Dense _Processes_, are accessed through `proc.init_args`. \n",
    "\n",
    "We then `connect()` the in-port of the Dense child _Process_ to the in-port of the `DenseLayer` parent _Process_ and the out-port of the LIF child _Process_ to the out-port of the `DenseLayer` parent _Process_. Note that ports of the `DenseLayer` parent process are accessed using `proc.in_ports` or `proc.out_ports`, while ports of a child _Process_ like LIF are accessed using `self.lif.in_ports` and `self.lif.out_ports`. Our _ProcessModel_ also internally `connect()`s the out-port of the Dense connection child _Process_ to the in-port of the LIF neural child _Process_. \n",
    "\n",
    "The `alias()` method exposes the variables of the LIF and Dense child _Processes_ to the `DenseLayer` parent _Process_. Note that the variables of the `DenseLayer` parent _Process_ are accessed using `proc.vars`, while the variables of a child `Process` like LIF are accessed using `self.lif.vars`."
   ]
  },
  {
   "cell_type": "code",
   "execution_count": 18,
   "id": "ddd9daba",
   "metadata": {},
   "outputs": [],
   "source": [
    "import numpy as np\n",
    "\n",
    "from lava.proc.lif.process import LIF\n",
    "from lava.proc.dense.process import Dense\n",
    "from lava.magma.core.model.sub.model import AbstractSubProcessModel\n",
    "\n",
    "from lava.magma.core.sync.protocols.loihi_protocol import LoihiProtocol\n",
    "from lava.magma.core.model.py.ports import PyInPort, PyOutPort\n",
    "from lava.magma.core.model.py.type import LavaPyType\n",
    "from lava.magma.core.resources import CPU\n",
    "from lava.magma.core.decorator import implements, requires\n",
    "\n",
    "@implements(proc=DenseLayer, protocol=LoihiProtocol)\n",
    "class SubDenseLayerModel(AbstractSubProcessModel):\n",
    "    \"\"\"Implements Process behavior via sub Processes.\"\"\"\n",
    "    s_in: PyInPort = LavaPyType(PyInPort.VEC_DENSE, bool, precision=1)\n",
    "    s_out: PyOutPort = LavaPyType(PyOutPort.VEC_DENSE, bool, precision=1)\n",
    "    \n",
    "    u: np.ndarray = LavaPyType(np.ndarray, np.int32, precision=24)\n",
    "    v: np.ndarray = LavaPyType(np.ndarray, np.int32, precision=24)\n",
    "    bias: np.ndarray = LavaPyType(np.ndarray, np.int16, precision=12)\n",
    "    du: int = LavaPyType(int, np.uint16, precision=12)\n",
    "    dv: int = LavaPyType(int, np.uint16, precision=12)\n",
    "    vth: int = LavaPyType(int, int, precision=8)\n",
    "    weights: np.ndarray = LavaPyType(np.ndarray, np.int32, precision=8)\n",
    "\n",
    "    def __init__(self, proc):\n",
    "        \"\"\"Builds sub Process structure of the Process.\"\"\"\n",
    "        # Instantiate child processes\n",
    "        #input shape is a 2D vec (shape of weight mat)\n",
    "        shape = proc.init_args.get(\"shape\",(1,1))\n",
    "        weights = proc.init_args.get(\"weights\",(1,1))\n",
    "        bias = proc.init_args.get(\"bias\",(1,1))\n",
    "        vth = proc.init_args.get(\"vth\",(1,1))\n",
    "        #shape is a 2D vec (shape of weight mat)\n",
    "        self.dense = Dense(shape=shape, weights=weights)\n",
    "        #shape is a 1D vec\n",
    "        self.lif = LIF(shape=(shape[0],),b=bias,vth=vth)\n",
    "        # connect Parent in port to child Dense in port\n",
    "        proc.in_ports.s_in.connect(self.dense.in_ports.s_in)\n",
    "        # connect Dense Proc out port to LIF Proc in port\n",
    "        self.dense.out_ports.a_out.connect(self.lif.in_ports.a_in)\n",
    "        # connect child LIF out port to parent out port\n",
    "        self.lif.out_ports.s_out.connect(proc.out_ports.s_out)\n",
    "\n",
    "        proc.vars.u.alias(self.lif.vars.u)\n",
    "        proc.vars.v.alias(self.lif.vars.v)\n",
    "        proc.vars.bias.alias(self.lif.vars.bias)\n",
    "        proc.vars.du.alias(self.lif.vars.du)\n",
    "        proc.vars.dv.alias(self.lif.vars.dv)\n",
    "        proc.vars.vth.alias(self.lif.vars.vth)\n",
    "        proc.vars.weights.alias(self.dense.vars.weights)"
   ]
  },
  {
   "cell_type": "markdown",
   "id": "0e38afa1",
   "metadata": {},
   "source": [
    "## Run the DenseLayer _Process_"
   ]
  },
  {
   "cell_type": "markdown",
   "id": "5816606e-bc0e-4ded-91c0-c3d9a3cdb287",
   "metadata": {},
   "source": [
    "#### Compile 1 DenseLayer _Process_"
   ]
  },
  {
   "cell_type": "code",
   "execution_count": 20,
   "id": "29cc5477",
   "metadata": {},
   "outputs": [
    {
     "name": "stdout",
     "output_type": "stream",
     "text": [
      "weights: \n",
      " [[3 3 1 1 3 3]\n",
      " [3 3 4 1 2 2]]\n"
     ]
    },
    {
     "data": {
      "text/plain": [
       "<lava.magma.compiler.executable.Executable at 0x7f7b585fbac0>"
      ]
     },
     "execution_count": 20,
     "metadata": {},
     "output_type": "execute_result"
    }
   ],
   "source": [
    "from lava.magma.core.run_configs import Loihi1SimCfg\n",
    "from lava.magma.core.run_conditions import RunSteps\n",
    "\n",
    "#test compilation\n",
    "\n",
    "#randomly initialize weights\n",
    "weights = np.random.randint(5,size=(2,6))\n",
    "#instantiate a DenseLayer\n",
    "denseLayer = DenseLayer(shape=(2,6),weights=weights, bias=3)\n",
    "#retrieve the weights from the DenseLayer\n",
    "print('weights: \\n',denseLayer.weights.get())\n",
    "#select_sub_proc_model is required to compile and run hierarchical Processes\n",
    "run_cfg = Loihi1SimCfg(select_sub_proc_model=True)\n",
    "denseLayer.compile(run_cfg=run_cfg)\n"
   ]
  },
  {
   "cell_type": "markdown",
   "id": "763a4881-0e8d-4d0a-84c4-c2bde204247a",
   "metadata": {},
   "source": [
    "#### Run Connected DenseLayer _Processes_"
   ]
  },
  {
   "cell_type": "code",
   "execution_count": 21,
   "id": "657dc72a-4507-4db4-8364-a4be54779bd5",
   "metadata": {},
   "outputs": [
    {
     "name": "stdout",
     "output_type": "stream",
     "text": [
      "Layer 1 weights: \n",
      " [[0. 0. 0.]\n",
      " [0. 1. 0.]\n",
      " [0. 0. 0.]]\n",
      "Layer 0 v:  [3. 3. 3.]\n",
      "Layer 1 v:  [3. 3. 3.]\n",
      "Layer 1 weights: \n",
      " [[0. 0. 0.]\n",
      " [0. 1. 0.]\n",
      " [0. 0. 0.]]\n",
      "Layer 0 v:  [6. 6. 6.]\n",
      "Layer 1 v:  [6. 6. 6.]\n",
      "Layer 1 weights: \n",
      " [[0. 0. 0.]\n",
      " [0. 1. 0.]\n",
      " [0. 0. 0.]]\n",
      "Layer 0 v:  [9. 9. 9.]\n",
      "Layer 1 v:  [9. 9. 9.]\n",
      "Layer 1 weights: \n",
      " [[0. 0. 0.]\n",
      " [0. 1. 0.]\n",
      " [0. 0. 0.]]\n",
      "Layer 0 v:  [0. 0. 0.]\n",
      "Layer 1 v:  [0. 0. 0.]\n"
     ]
    }
   ],
   "source": [
    "dim=(3,3)\n",
    "#initialize random weight mats\n",
    "weights0 = np.zeros(shape=dim)\n",
    "weights0[1,1]=1\n",
    "weights1 = weights0\n",
    "#weights0 = np.random.randint(5,size=dim)\n",
    "#weights1 = np.random.randint(5,size=dim)\n",
    "#instantiate 2 DenseLayers\n",
    "layer0 = DenseLayer(shape=dim,weights=weights0, bias=3, vth=10)\n",
    "layer1 = DenseLayer(shape=dim,weights=weights1, bias=3, vth=10)\n",
    "#connect layer 0 to layer 1\n",
    "layer0.s_out.connect(layer1.s_in)\n",
    "#running layer 1 runs all connected layers (layer 0)\n",
    "layer1.run(condition=RunSteps(num_steps=1), run_cfg=run_cfg)\n",
    "print('Layer 1 weights: \\n', layer1.weights.get())\n",
    "print('Layer 0 v: ', layer0.v.get())\n",
    "print('Layer 1 v: ', layer1.v.get())\n",
    "layer1.run(condition=RunSteps(num_steps=1), run_cfg=run_cfg)\n",
    "print('Layer 1 weights: \\n', layer1.weights.get())\n",
    "print('Layer 0 v: ', layer0.v.get())\n",
    "print('Layer 1 v: ', layer1.v.get())\n",
    "layer1.run(condition=RunSteps(num_steps=1), run_cfg=run_cfg)\n",
    "print('Layer 1 weights: \\n', layer1.weights.get())\n",
    "print('Layer 0 v: ', layer0.v.get())\n",
    "print('Layer 1 v: ', layer1.v.get())\n",
    "layer1.run(condition=RunSteps(num_steps=1), run_cfg=run_cfg)\n",
    "print('Layer 1 weights: \\n', layer1.weights.get())\n",
    "print('Layer 0 v: ', layer0.v.get())\n",
    "print('Layer 1 v: ', layer1.v.get())"
   ]
  },
  {
   "cell_type": "markdown",
   "id": "3e7349aa-56cf-4759-9af2-15bebd63e399",
   "metadata": {},
   "source": [
    "## How to learn more?\n",
    "\n",
    "If you want to find out more about _SubProcessModels_, have a look at the [Lava documentation](https://lava-nc.org/) or dive into the [source code](https://github.com/intel-nrc-ecosystem/lava-core-rethink/blob/main/lava/magma/core/model/sub/model.py).\n",
    "\n",
    "To receive regular updates on the latest developments and releases of the Lava Software Framework please subscribe to [our newsletter](http://eepurl.com/hJCyhb)."
   ]
  }
 ],
 "metadata": {
  "kernelspec": {
   "display_name": "Python 3 (ipykernel)",
   "language": "python",
   "name": "python3"
  },
  "language_info": {
   "codemirror_mode": {
    "name": "ipython",
    "version": 3
   },
   "file_extension": ".py",
   "mimetype": "text/x-python",
   "name": "python",
   "nbconvert_exporter": "python",
   "pygments_lexer": "ipython3",
   "version": "3.8.10"
  }
 },
 "nbformat": 4,
 "nbformat_minor": 5
}
