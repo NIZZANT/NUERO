{
 "cells": [
  {
   "cell_type": "markdown",
   "id": "df0639b0",
   "metadata": {},
   "source": [
    "*Copyright (C) 2021 Intel Corporation*<br>\n",
    "*SPDX-License-Identifier: BSD-3-Clause*<br>\n",
    "*See: https://spdx.org/licenses/*\n",
    "\n",
    "---\n",
    "\n",
    "# Remote Memory Access\n",
    "\n",
    "The goal of this tutorial is to show how to enable remote memory access between processes using Lava _RefPorts_. In previous tutorials you have been introduced to _Processes_ which define behavior and _ProcessModels_, which implement the behavior for specific compute resources, e.g., CPU or Loihi Neurocores.\n",
    "\n",
    "In general processes have only access to its own state and communicate with the enviornment only through messages using ports. Lava also allows certain processes (e.g. those on CPUs) to perform remote memory access of internal states on other processes. Remote memory access between processes is potentially unsafe and should be used with care, but can be very useful in defined cases. One such case would be accessing (read/write) a _Var_ of a _Process_ on a Loihi Neurocore from another _Process_ on the embedded CPU. Thus, _RefPorts_ allow in Lava one _Process_ to access the internal _Vars_ of another _Process_. _RefPorts_ give access to other _Vars_ as if it was an internal _Var_. The read/write of _RefPorts_ are still implemented via messages and can be used across compute resources.\n",
    "\n",
    "\n",
    "(Image 01)\n",
    "\n",
    "In this tutorial, we will create minimal Processes and ProcessModels to demonstrate reading and writing of Vars using RefPorts and VarPorts. Furthermore, we will explain the possibilities to connect RefPorts with VarPorts and Vars as well as the difference of explicitly and implicitly created VarPorts."
   ]
  },
  {
   "cell_type": "markdown",
   "id": "361b53f8-24da-4b60-93b5-ece9e05a7eca",
   "metadata": {},
   "source": [
    "## Recommended tutorials before starting: \n",
    "\n",
    "- [Installing Lava](./tutorial01_installing_lava.ipynb \"Tutorial on Installing Lava\")\n",
    "- [Processes](./tutorial02_processes.ipynb \"Tutorial on Processes\")\n",
    "- [ProcessModel](./tutorial03_process_models.ipynb \"Tutorial on ProcessModels\")\n",
    "- [Execution](./tutorial04_execution.ipynb \"Tutorial on Executing Processes\")\n",
    "- [Connecting Processes](./tutorial05_connect_processes.ipynb \"Tutorial on Connecting Processes\")\n",
    "- [Hierarchical Processes](./tutorial06_hierarchical_processes.ipynb \"Tutorial on Hierarchical Processes\")"
   ]
  },
  {
   "cell_type": "markdown",
   "id": "25486c95",
   "metadata": {},
   "source": [
    "## Create a minimal _Process_ and _ProcessModel_ with a _RefPort_"
   ]
  },
  {
   "cell_type": "markdown",
   "id": "0d9dca97",
   "metadata": {},
   "source": [
    "The [ProcessModel Tutorial](#tutorial03_process_models.ipynb) walks through the creation of _Processes_ and corresponding _ProcessModels_. In order to demonstrate RefPorts we create a minimal process P1 with a _RefPort_ and a minimal process P2 with a _Var_. We also create the corresponding _ProcessModels_ PyProcModel1 and PyProcModel2 which implement the process P1 and P2. The value of the _Var_ of P2 `var` is initialized with the value 5. The behavior we implement prints out the value of the `var` in P1 every time step, demonstrating the **read** ability of a _RefPort_ `ref`. Afterwards we set the value of `var` by adding the current time step to it and write it with `ref`, demonstrating the **write** abiltity of a _RefPort_. The _RefPort_ `ref` needs to be connected with the _Var_ `var`, before execution."
   ]
  },
  {
   "cell_type": "code",
   "execution_count": 1,
   "id": "c44a34ac",
   "metadata": {},
   "outputs": [],
   "source": [
    "from lava.magma.core.process.process import AbstractProcess\n",
    "from lava.magma.core.process.variable import Var\n",
    "from lava.magma.core.process.ports.ports import RefPort\n",
    "\n",
    "\n",
    "# A minimal process with a Var and a RefPort\n",
    "class P1(AbstractProcess):\n",
    "    def __init__(self, **kwargs):\n",
    "        super().__init__(**kwargs)\n",
    "        self.ref = RefPort(shape=(1,))\n",
    "\n",
    "        \n",
    "# A minimal process with a Var\n",
    "class P2(AbstractProcess):\n",
    "    def __init__(self, **kwargs):\n",
    "        super().__init__(**kwargs)\n",
    "        self.var = Var(shape=(1,), init=5)"
   ]
  },
  {
   "cell_type": "markdown",
   "id": "3388c481",
   "metadata": {},
   "source": [
    "#### Create a Python Process Model implementing the Loihi Sync Protocol and requiring a CPU compute resource"
   ]
  },
  {
   "cell_type": "code",
   "execution_count": 2,
   "id": "cf921be5",
   "metadata": {},
   "outputs": [],
   "source": [
    "import numpy as np\n",
    "\n",
    "from lava.magma.core.sync.protocols.loihi_protocol import LoihiProtocol\n",
    "from lava.magma.core.model.py.ports import PyRefPort\n",
    "from lava.magma.core.model.py.type import LavaPyType\n",
    "from lava.magma.core.resources import CPU\n",
    "from lava.magma.core.decorator import implements, requires\n",
    "from lava.magma.core.model.py.model import PyLoihiProcessModel\n",
    "\n",
    "\n",
    "# A minimal PyProcModel implementing P1\n",
    "@implements(proc=P1, protocol=LoihiProtocol)\n",
    "@requires(CPU)\n",
    "class PyProcModel1(PyLoihiProcessModel):\n",
    "    ref: PyRefPort = LavaPyType(PyRefPort.VEC_DENSE, int)\n",
    "\n",
    "    def pre_guard(self):\n",
    "        return True\n",
    "\n",
    "    def run_pre_mgmt(self):\n",
    "        # Retrieve current value of the Var of P2\n",
    "        cur_val = self.ref.read()\n",
    "        print(cur_val)\n",
    "        \n",
    "        # Add the current time step to the current value\n",
    "        new_data = cur_val + self.current_ts\n",
    "        # Write the new value to the Var of P2\n",
    "        self.ref.write(new_data)\n",
    "\n",
    "\n",
    "\n",
    "\n",
    "# A minimal PyProcModel implementing P2\n",
    "@implements(proc=P2, protocol=LoihiProtocol)\n",
    "@requires(CPU)\n",
    "class PyProcModel2(PyLoihiProcessModel):\n",
    "    var: np.ndarray = LavaPyType(np.ndarray, np.int32)"
   ]
  },
  {
   "cell_type": "markdown",
   "id": "0e38afa1",
   "metadata": {},
   "source": [
    "## Run the _Processes_"
   ]
  },
  {
   "cell_type": "code",
   "execution_count": 1,
   "id": "29cc5477",
   "metadata": {},
   "outputs": [],
   "source": [
    "from lava.magma.core.run_configs import Loihi1SimCfg\n",
    "from lava.magma.core.run_conditions import RunSteps\n",
    "\n",
    "# Create process P1 and P2\n",
    "proc1 = P1()\n",
    "proc2 = P2()\n",
    "\n",
    "# Connect RefPort 'ref' of P1 with Var 'var' of P2\n",
    "proc1.ref.connect_var(proc2.var)\n",
    "\n"
   ]
  },
  {
   "cell_type": "code",
   "execution_count": 2,
   "id": "e489ee0c",
   "metadata": {},
   "outputs": [],
   "source": [
    "if __name__ == \"__main__\":\n",
    "    # Run the network for 5 time steps\n",
    "    proc1.run(condition=RunSteps(num_steps=5), run_cfg=Loihi1SimCfg())\n",
    "    proc1.stop()"
   ]
  },
  {
   "cell_type": "markdown",
   "id": "3e7349aa-56cf-4759-9af2-15bebd63e399",
   "metadata": {},
   "source": [
    "## How to learn more?\n",
    "\n",
    "If you want to find out more about _SubProcessModels_, have a look at the [Lava documentation](https://lava-nc.org/) or dive into the [source code](https://github.com/intel-nrc-ecosystem/lava-core-rethink/blob/main/lava/magma/core/model/sub/model.py).\n",
    "\n",
    "To receive regular updates on the latest developments and releases of the Lava Software Framework please subscribe to [our newsletter](http://eepurl.com/hJCyhb)."
   ]
  }
 ],
 "metadata": {
  "kernelspec": {
   "display_name": "Python 3",
   "language": "python",
   "name": "python3"
  },
  "language_info": {
   "codemirror_mode": {
    "name": "ipython",
    "version": 3
   },
   "file_extension": ".py",
   "mimetype": "text/x-python",
   "name": "python",
   "nbconvert_exporter": "python",
   "pygments_lexer": "ipython3",
   "version": "3.8.10"
  }
 },
 "nbformat": 4,
 "nbformat_minor": 5
}
