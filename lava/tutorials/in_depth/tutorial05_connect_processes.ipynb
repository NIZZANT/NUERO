{
 "cells": [
  {
   "cell_type": "markdown",
   "id": "19a680fd",
   "metadata": {
    "pycharm": {
     "name": "#%% md\n"
    }
   },
   "source": [
    "*Copyright (C) 2021 Intel Corporation*<br>\n",
    "*SPDX-License-Identifier: BSD-3-Clause*<br>\n",
    "*See: https://spdx.org/licenses/*\n",
    "\n",
    "---\n",
    "\n",
    "# Connect processes\n",
    "\n",
    "This tutorial gives an introduction in how to connect _Processes_ to build a network of asynchronously operating and interacting _Processes_.\n",
    "\n",
    "## Recommended tutorials before starting:\n",
    "\n",
    "- [Installing Lava](./tutorial01_installing_lava.ipynb \"Tutorial on Installing Lava\")\n",
    "- [Processes](./tutorial02_processes.ipynb \"Tutorial on Processes\")\n",
    "- [ProcessModel](./tutorial03_process_models.ipynb \"Tutorial on ProcessModels\")\n",
    "- [Execution](./tutorial04_execution.ipynb \"Tutorial on Executing Processes\")\n",
    "\n",
    "    \n",
    "## Building a network of _Processes_\n",
    "\n",
    "_Processes_ are the main building blocks of Lava. Each _Process_ can exercise different computations and usually depends on some input data and/or creates output data. Transfering I/O data between _Processes_ is a key element of Lava. A _Process_ can have various input and output _Ports_ which are then connected via channels to corresponding _Ports_ of another _Process_. This allows to build networks of asynchronously operating and interacting _Processes_.\n",
    "\n",
    "## Create a connection\n",
    "\n",
    "The objective is to connect _Process_ _P1_ with _Process_ _P2_. _P1_ has an output _Port_ _OutPort_ called _out_ and _P2_ has an input port _InPort_ called _inp_. Data from _P1_ provided to the _Port_ _out_ should be transfered to _P2_ and received from _Port_ _inp_.\n",
    "\n",
    "<img src=\"https://raw.githubusercontent.com/lava-nc/lava-nc.github.io/main/_static/images/tutorial06/fig01.png\" width=\"400\"  />\n"
   ]
  },
  {
   "cell_type": "code",
   "execution_count": null,
   "id": "6f7a5e6a",
   "metadata": {},
   "outputs": [],
   "source": [
    "from lava.magma.core.process.process import AbstractProcess\n",
    "from lava.magma.core.process.ports.ports import InPort, OutPort"
   ]
  },
  {
   "cell_type": "markdown",
   "id": "66d488fc",
   "metadata": {},
   "source": [
    "As first step we define the _Processes_ _P1_ and _P2_ with their respective _Ports_ _out_ and _inp_."
   ]
  },
  {
   "cell_type": "code",
   "execution_count": null,
   "id": "94fcc5b4",
   "metadata": {},
   "outputs": [],
   "source": [
    "# minimal process with an OutPort\n",
    "class P1(AbstractProcess):\n",
    "    def __init__(self, **kwargs):\n",
    "        super().__init__(**kwargs)\n",
    "        shape = kwargs.get('shape', (2,))\n",
    "        self.out = OutPort(shape=shape)\n",
    "\n",
    "\n",
    "# minimal process with an InPort\n",
    "class P2(AbstractProcess):\n",
    "    def __init__(self, **kwargs):\n",
    "        super().__init__(**kwargs)\n",
    "        shape = kwargs.get('shape', (2,))\n",
    "        self.inp = InPort(shape=shape)"
   ]
  },
  {
   "cell_type": "markdown",
   "id": "3336d5e4",
   "metadata": {},
   "source": [
    "_Process_ _P1_ and _P2_ require a corresponding _ProcessModel_, which implements their _Ports_ and a simple run configuration for sending and receiving data.\n",
    "\n",
    "In the _ProcessModels_ python code should be exectued on a CPU. The input and output _Port_ should be able to receive/send a vector of integers and print the transferred data.\n",
    "\n",
    "So the _ProcessModel_ inherits form _AbstractPyProcessModel_ in order to execute python code and the configured _ComputeResource_ is a CPU. A _LavaPyType_ is used for the _Ports_. The _LavaPyType_ specifies the expected data format for the _Port_. A dense vector of type integer is chosen with the parameters _PyOutPort.VEC_DENSE_ and _int_. The _Ports_ can be used to send and receive data by calling _send_ or _recv_. The sent and received data is afterwards printed out."
   ]
  },
  {
   "cell_type": "code",
   "execution_count": null,
   "id": "d9abdcda",
   "metadata": {},
   "outputs": [],
   "source": [
    "import numpy as np\n",
    "from lava.magma.core.model.py.model import AbstractPyProcessModel\n",
    "from lava.magma.core.decorator import implements, requires\n",
    "from lava.magma.core.resources import CPU\n",
    "from lava.magma.core.model.py.type import LavaPyType\n",
    "from lava.magma.core.model.py.ports import PyInPort, PyOutPort"
   ]
  },
  {
   "cell_type": "code",
   "execution_count": null,
   "id": "617266c1",
   "metadata": {},
   "outputs": [],
   "source": [
    "# A minimal PyProcModel implementing P1\n",
    "@implements(proc=P1)\n",
    "@requires(CPU)\n",
    "class PyProcModelA(AbstractPyProcessModel):\n",
    "    out: PyOutPort = LavaPyType(PyOutPort.VEC_DENSE, int)\n",
    "\n",
    "    def run(self):\n",
    "        data = np.array([1, 2])\n",
    "        self.out.send(data)\n",
    "        print(\"Sent output data of P1: \", str(data))\n",
    "\n",
    "\n",
    "# A minimal PyProcModel implementing P2\n",
    "@implements(proc=P2)\n",
    "@requires(CPU)\n",
    "class PyProcModelB(AbstractPyProcessModel):\n",
    "    inp: PyInPort = LavaPyType(PyInPort.VEC_DENSE, int)\n",
    "\n",
    "    def run(self):\n",
    "        in_data = self.inp.recv()\n",
    "        print(\"Received input data for P2: \", str(in_data))"
   ]
  },
  {
   "cell_type": "markdown",
   "id": "9c566e74",
   "metadata": {},
   "source": [
    "Next the processes _P1_ and _P2_ are instantiated and the output _Port_ _out_ from _Process_ _P1_ is connected with the input _Port_ _inp_ of _Process_ _P2_."
   ]
  },
  {
   "cell_type": "code",
   "execution_count": null,
   "id": "ba4e032e",
   "metadata": {},
   "outputs": [],
   "source": [
    "sender = P1()\n",
    "recv = P2()\n",
    "\n",
    "# Connecting output port to an input port\n",
    "sender.out.connect(recv.inp)\n",
    "\n",
    "sender = P1()\n",
    "recv = P2()\n",
    "\n",
    "# ... or connecting an input port from an output port\n",
    "recv.inp.connect_from(sender.out)"
   ]
  },
  {
   "cell_type": "markdown",
   "id": "6ef166b8",
   "metadata": {},
   "source": [
    "Calling `run()` on either of these _Processes_ will first call the _Compiler_. During compilation the specified connection is setup by creating a channel between _P1_ and _P2_. Now data can be transfered during execution as seen by the output print statements."
   ]
  },
  {
   "cell_type": "code",
   "execution_count": null,
   "id": "d9abc8cc",
   "metadata": {},
   "outputs": [],
   "source": [
    "from lava.magma.core.run_configs import RunConfig\n",
    "from lava.magma.core.run_conditions import RunSteps"
   ]
  },
  {
   "cell_type": "code",
   "execution_count": null,
   "id": "d4745d9b",
   "metadata": {},
   "outputs": [],
   "source": [
    "class MyRunCfg(RunConfig):\n",
    "    def select(self, proc, proc_models):\n",
    "        return proc_models[0]"
   ]
  },
  {
   "cell_type": "code",
   "execution_count": null,
   "id": "310954ce",
   "metadata": {
    "scrolled": true
   },
   "outputs": [],
   "source": [
    "\n",
    "sender.run(RunSteps(num_steps=42, blocking=False), MyRunCfg())\n",
    "sender.stop()"
   ]
  },
  {
   "cell_type": "markdown",
   "id": "bf122ff7",
   "metadata": {},
   "source": [
    "## Possible connections\n",
    "This first example was very simple. In principle _Processes_ can have multiple input and output _Ports_, which can be freely connected with each other. Also _Processes_ which execute on different devices can be connected in the same way.\n",
    "\n",
    "<img src=\"https://raw.githubusercontent.com/lava-nc/lava-nc.github.io/main/_static/images/tutorial06/fig02.png\" width=\"400\"  />\n",
    "\n",
    "#### There are some things to consider though:\n",
    "- _InPorts_ cannot connect to _OutPorts_\n",
    "- Shape and datatype of connect _Ports_ must match\n",
    "- An _InPort_ might get data from multiple _OutPorts_ - default behavior is a summation of the incoming data\n",
    "- An _OutPort_ might send data to multiple _InPorts_ - all _InPorts_ receive the same data\n",
    "\n",
    "\n",
    "## Connect multiple _InPorts_ from a single _OutPort_\n",
    "\n",
    "<img src=\"https://raw.githubusercontent.com/lava-nc/lava-nc.github.io/main/_static/images/tutorial06/fig04.png\" width=\"400\"  />"
   ]
  },
  {
   "cell_type": "code",
   "execution_count": null,
   "id": "2c237a96",
   "metadata": {},
   "outputs": [],
   "source": [
    "sender = P1()\n",
    "recv1 = P2()\n",
    "recv2 = P2()\n",
    "recv3 = P2()\n",
    "\n",
    "# An OutPort can connect to multiple InPorts\n",
    "# Either at once...\n",
    "sender.out.connect([recv1.inp, recv2.inp, recv3.inp])\n",
    "\n",
    "sender = P1()\n",
    "recv1 = P2()\n",
    "recv2 = P2()\n",
    "recv3 = P2()\n",
    "\n",
    "# ... or consecutively\n",
    "sender.out.connect(recv1.inp)\n",
    "sender.out.connect(recv2.inp)\n",
    "sender.out.connect(recv3.inp)"
   ]
  },
  {
   "cell_type": "code",
   "execution_count": null,
   "id": "5d5c0e38",
   "metadata": {},
   "outputs": [],
   "source": [
    "# TODO: run it"
   ]
  },
  {
   "cell_type": "markdown",
   "id": "b2edbeaf",
   "metadata": {},
   "source": [
    "## Connecting multiple _InPorts_ to a single _OutPort_\n",
    "\n",
    "If multiple input _Ports_ connect to the same output _Port_, the default behavior is that the data from each input _Port_ is added up at the output _Port_. Another reduce operation would be multiplication.\n",
    "\n",
    "<img src=\"https://raw.githubusercontent.com/lava-nc/lava-nc.github.io/main/_static/images/tutorial06/fig05.png\" width=\"400\"  />"
   ]
  },
  {
   "cell_type": "code",
   "execution_count": null,
   "id": "523d8a27",
   "metadata": {},
   "outputs": [],
   "source": [
    "sender1 = P1()\n",
    "sender2 = P1()\n",
    "sender3 = P1()\n",
    "recv = P2()\n",
    "\n",
    "# An InPort can connect to multiple OutPorts\n",
    "# Either at once...\n",
    "recv.inp.connect_from([sender1.out, sender2.out, sender3.out])\n",
    "\n",
    "sender1 = P1()\n",
    "sender2 = P1()\n",
    "sender3 = P1()\n",
    "recv = P2()\n",
    "\n",
    "# ... or consecutively\n",
    "sender1.out.connect(recv.inp)\n",
    "sender2.out.connect(recv.inp)\n",
    "sender3.out.connect(recv.inp)"
   ]
  },
  {
   "cell_type": "code",
   "execution_count": null,
   "id": "347de914",
   "metadata": {},
   "outputs": [],
   "source": [
    "# TODO: show run"
   ]
  },
  {
   "cell_type": "markdown",
   "id": "7694793b",
   "metadata": {},
   "source": [
    "## Connecting _Ports_ with different shapes\n",
    "\n",
    "It cannot be assumed that every _Process_ sends or receives data in the same shape. There might be _Processes_ from different users which work with different vector shapes for various reasons. Still, it is possible to connect such _Processes_ using the reshape feature of _Ports_.\n",
    "\n",
    "<img src=\"https://raw.githubusercontent.com/lava-nc/lava-nc.github.io/main/_static/images/tutorial06/fig03.png\" width=\"400\"  />"
   ]
  },
  {
   "cell_type": "markdown",
   "id": "56aaf1ef",
   "metadata": {},
   "source": []
  },
  {
   "cell_type": "markdown",
   "id": "b551d9f8",
   "metadata": {},
   "source": [
    "First, the _Processes_ _P1_ and _P2_ are instantiated with new shapes (1, 6) and (2, 3). The output port of _P1_ can still be conncected with the input port of _P2_, if appropriate reshape is used. The total number of elements needs to be the same for both ports."
   ]
  },
  {
   "cell_type": "code",
   "execution_count": null,
   "id": "4c8cceb7",
   "metadata": {},
   "outputs": [],
   "source": [
    "sender = P1(shape=(1,6))\n",
    "recv = P2(shape=(2, 3))\n",
    "\n",
    "# Using reshape(..), ports with different shape can be connected as\n",
    "# long as total number of elements does not change\n",
    "sender.out.reshape((2, 3)).connect(recv.inp)"
   ]
  },
  {
   "cell_type": "code",
   "execution_count": null,
   "id": "d8af85b6",
   "metadata": {},
   "outputs": [],
   "source": [
    "# TODO: show run"
   ]
  },
  {
   "cell_type": "markdown",
   "id": "95422ef6",
   "metadata": {},
   "source": [
    "## Concatenation of _Ports_\n",
    "\n",
    "<img src=\"https://raw.githubusercontent.com/lava-nc/lava-nc.github.io/main/_static/images/tutorial06/fig06.png\" width=\"400\"  />"
   ]
  },
  {
   "cell_type": "markdown",
   "id": "63ff3046",
   "metadata": {},
   "source": [
    "The _Processes_ _P1_ and _P2_ are instantiated with new shapes (1, 2) and (3, 2). Now the output ports of the sending processes are concatenated before connected to the receiving port."
   ]
  },
  {
   "cell_type": "code",
   "execution_count": null,
   "id": "c330df46",
   "metadata": {},
   "outputs": [],
   "source": [
    "sender1 = P1(shape=(1, 2))\n",
    "sender2 = P1(shape=(1, 2))\n",
    "sender3 = P1(shape=(1, 2))\n",
    "recv = P2(shape=(3, 2))\n",
    "\n",
    "# concat_with(..) concatenates calling port (sender1.out) with other ports\n",
    "# (sender2.out, sender3.out) along given axis\n",
    "cp = sender1.out.concat_with([sender2.out, sender3.out], axis=0)\n",
    "\n",
    " # The return value is a virtual ConcatPort which can be connected to the input port\n",
    "cp.connect(recv.inp)"
   ]
  },
  {
   "cell_type": "code",
   "execution_count": null,
   "id": "fcfbce52",
   "metadata": {},
   "outputs": [],
   "source": [
    "# TODO: run"
   ]
  },
  {
   "cell_type": "markdown",
   "id": "d6ff9409",
   "metadata": {},
   "source": [
    "## How to learn more?\n",
    "\n",
    "Learn how to implement and compose the behavior of a process using other processes the [next tutorial on hierarchical Processes](./tutorial06_hierarchical_processes.ipynb \"Tutorial on Hierarchical Processes\").\n",
    "\n",
    "If you want to find out more about connecting processes, have a look at the [Lava documentation](https://lava-nc.org/ \"Lava Documentation\") or dive into the [source code](https://github.com/lava-nc/lava/tree/main/lava/magma/core/process/ports/ports.py \"Port Source Code\").\n",
    "\n",
    "To receive regular updates on the latest developments and releases of the Lava Software Framework please subscribe to the [INRC newsletter](http://eepurl.com/hJCyhb \"INRC Newsletter\")."
   ]
  }
 ],
 "metadata": {
  "kernelspec": {
   "display_name": "Python 3 (ipykernel)",
   "language": "python",
   "name": "python3"
  },
  "language_info": {
   "codemirror_mode": {
    "name": "ipython",
    "version": 3
   },
   "file_extension": ".py",
   "mimetype": "text/x-python",
   "name": "python",
   "nbconvert_exporter": "python",
   "pygments_lexer": "ipython3",
   "version": "3.8.10"
  }
 },
 "nbformat": 4,
 "nbformat_minor": 5
}